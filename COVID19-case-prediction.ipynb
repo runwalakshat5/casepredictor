{
 "cells": [
  {
   "cell_type": "markdown",
   "id": "municipal-posting",
   "metadata": {},
   "source": [
    "## Predicting COVID-19 cases using ML\n",
    "\n",
    "This notebook looks into various data science and ML models to predict the number of positive cases in each state on a particular after taking in account the total number of samples tested.\n"
   ]
  },
  {
   "cell_type": "code",
   "execution_count": 1,
   "id": "suffering-rebecca",
   "metadata": {},
   "outputs": [],
   "source": [
    "# Importing all the tools we need\n",
    "\n",
    "# Regular EDA(Exploratory Data Analysis) and plotting libraries\n",
    "import numpy as np\n",
    "import pandas as pd\n",
    "import matplotlib.pyplot as plt\n",
    "import seaborn as sns\n",
    "\n",
    "# We want all our plots to appear inside the notebook\n",
    "%matplotlib inline\n",
    "\n",
    "# Models from Sci-Kit learn(Imported later)\n",
    "from sklearn.linear_model import LogisticRegression\n",
    "\n",
    "# Model Evaluation(Imported later)\n",
    "from sklearn.model_selection import train_test_split, cross_val_score"
   ]
  },
  {
   "cell_type": "code",
   "execution_count": 2,
   "id": "recognized-default",
   "metadata": {},
   "outputs": [],
   "source": [
    "df=pd.read_csv('StatewiseTestingDetails.csv')"
   ]
  },
  {
   "cell_type": "code",
   "execution_count": 3,
   "id": "interpreted-apparel",
   "metadata": {},
   "outputs": [
    {
     "data": {
      "text/html": [
       "<div>\n",
       "<style scoped>\n",
       "    .dataframe tbody tr th:only-of-type {\n",
       "        vertical-align: middle;\n",
       "    }\n",
       "\n",
       "    .dataframe tbody tr th {\n",
       "        vertical-align: top;\n",
       "    }\n",
       "\n",
       "    .dataframe thead th {\n",
       "        text-align: right;\n",
       "    }\n",
       "</style>\n",
       "<table border=\"1\" class=\"dataframe\">\n",
       "  <thead>\n",
       "    <tr style=\"text-align: right;\">\n",
       "      <th></th>\n",
       "      <th>Date</th>\n",
       "      <th>State</th>\n",
       "      <th>TotalSamples</th>\n",
       "      <th>Negative</th>\n",
       "      <th>Positive</th>\n",
       "    </tr>\n",
       "  </thead>\n",
       "  <tbody>\n",
       "    <tr>\n",
       "      <th>0</th>\n",
       "      <td>4/17/2020</td>\n",
       "      <td>Andaman and Nicobar Islands</td>\n",
       "      <td>1403</td>\n",
       "      <td>1210</td>\n",
       "      <td>12.0</td>\n",
       "    </tr>\n",
       "    <tr>\n",
       "      <th>1</th>\n",
       "      <td>4/24/2020</td>\n",
       "      <td>Andaman and Nicobar Islands</td>\n",
       "      <td>2679</td>\n",
       "      <td>NaN</td>\n",
       "      <td>27.0</td>\n",
       "    </tr>\n",
       "    <tr>\n",
       "      <th>2</th>\n",
       "      <td>4/27/2020</td>\n",
       "      <td>Andaman and Nicobar Islands</td>\n",
       "      <td>2848</td>\n",
       "      <td>NaN</td>\n",
       "      <td>33.0</td>\n",
       "    </tr>\n",
       "    <tr>\n",
       "      <th>3</th>\n",
       "      <td>5/1/2020</td>\n",
       "      <td>Andaman and Nicobar Islands</td>\n",
       "      <td>3754</td>\n",
       "      <td>NaN</td>\n",
       "      <td>33.0</td>\n",
       "    </tr>\n",
       "    <tr>\n",
       "      <th>4</th>\n",
       "      <td>5/16/2020</td>\n",
       "      <td>Andaman and Nicobar Islands</td>\n",
       "      <td>6677</td>\n",
       "      <td>NaN</td>\n",
       "      <td>33.0</td>\n",
       "    </tr>\n",
       "  </tbody>\n",
       "</table>\n",
       "</div>"
      ],
      "text/plain": [
       "        Date                        State  TotalSamples Negative  Positive\n",
       "0  4/17/2020  Andaman and Nicobar Islands          1403     1210      12.0\n",
       "1  4/24/2020  Andaman and Nicobar Islands          2679      NaN      27.0\n",
       "2  4/27/2020  Andaman and Nicobar Islands          2848      NaN      33.0\n",
       "3   5/1/2020  Andaman and Nicobar Islands          3754      NaN      33.0\n",
       "4  5/16/2020  Andaman and Nicobar Islands          6677      NaN      33.0"
      ]
     },
     "execution_count": 3,
     "metadata": {},
     "output_type": "execute_result"
    }
   ],
   "source": [
    "df.head()"
   ]
  },
  {
   "cell_type": "code",
   "execution_count": 4,
   "id": "short-broadcasting",
   "metadata": {},
   "outputs": [
    {
     "data": {
      "text/plain": [
       "(13403, 5)"
      ]
     },
     "execution_count": 4,
     "metadata": {},
     "output_type": "execute_result"
    }
   ],
   "source": [
    "df.shape"
   ]
  },
  {
   "cell_type": "code",
   "execution_count": 5,
   "id": "romantic-sender",
   "metadata": {},
   "outputs": [],
   "source": [
    " ## Check missing or null values"
   ]
  },
  {
   "cell_type": "code",
   "execution_count": 6,
   "id": "northern-grounds",
   "metadata": {},
   "outputs": [
    {
     "data": {
      "text/plain": [
       "Date               0\n",
       "State              0\n",
       "TotalSamples       0\n",
       "Negative        7273\n",
       "Positive        7959\n",
       "dtype: int64"
      ]
     },
     "execution_count": 6,
     "metadata": {},
     "output_type": "execute_result"
    }
   ],
   "source": [
    "df.isnull().sum()"
   ]
  },
  {
   "cell_type": "code",
   "execution_count": 7,
   "id": "living-hunter",
   "metadata": {},
   "outputs": [
    {
     "data": {
      "text/html": [
       "<div>\n",
       "<style scoped>\n",
       "    .dataframe tbody tr th:only-of-type {\n",
       "        vertical-align: middle;\n",
       "    }\n",
       "\n",
       "    .dataframe tbody tr th {\n",
       "        vertical-align: top;\n",
       "    }\n",
       "\n",
       "    .dataframe thead th {\n",
       "        text-align: right;\n",
       "    }\n",
       "</style>\n",
       "<table border=\"1\" class=\"dataframe\">\n",
       "  <thead>\n",
       "    <tr style=\"text-align: right;\">\n",
       "      <th></th>\n",
       "      <th>TotalSamples</th>\n",
       "      <th>Positive</th>\n",
       "    </tr>\n",
       "  </thead>\n",
       "  <tbody>\n",
       "    <tr>\n",
       "      <th>count</th>\n",
       "      <td>1.340300e+04</td>\n",
       "      <td>5.444000e+03</td>\n",
       "    </tr>\n",
       "    <tr>\n",
       "      <th>mean</th>\n",
       "      <td>3.788835e+06</td>\n",
       "      <td>5.237404e+04</td>\n",
       "    </tr>\n",
       "    <tr>\n",
       "      <th>std</th>\n",
       "      <td>6.129422e+06</td>\n",
       "      <td>1.647659e+05</td>\n",
       "    </tr>\n",
       "    <tr>\n",
       "      <th>min</th>\n",
       "      <td>5.800000e+01</td>\n",
       "      <td>0.000000e+00</td>\n",
       "    </tr>\n",
       "    <tr>\n",
       "      <th>25%</th>\n",
       "      <td>1.151665e+05</td>\n",
       "      <td>4.897500e+02</td>\n",
       "    </tr>\n",
       "    <tr>\n",
       "      <th>50%</th>\n",
       "      <td>6.116090e+05</td>\n",
       "      <td>4.196500e+03</td>\n",
       "    </tr>\n",
       "    <tr>\n",
       "      <th>75%</th>\n",
       "      <td>5.410430e+06</td>\n",
       "      <td>3.303500e+04</td>\n",
       "    </tr>\n",
       "    <tr>\n",
       "      <th>max</th>\n",
       "      <td>4.523109e+07</td>\n",
       "      <td>1.638961e+06</td>\n",
       "    </tr>\n",
       "  </tbody>\n",
       "</table>\n",
       "</div>"
      ],
      "text/plain": [
       "       TotalSamples      Positive\n",
       "count  1.340300e+04  5.444000e+03\n",
       "mean   3.788835e+06  5.237404e+04\n",
       "std    6.129422e+06  1.647659e+05\n",
       "min    5.800000e+01  0.000000e+00\n",
       "25%    1.151665e+05  4.897500e+02\n",
       "50%    6.116090e+05  4.196500e+03\n",
       "75%    5.410430e+06  3.303500e+04\n",
       "max    4.523109e+07  1.638961e+06"
      ]
     },
     "execution_count": 7,
     "metadata": {},
     "output_type": "execute_result"
    }
   ],
   "source": [
    "df.describe()"
   ]
  },
  {
   "cell_type": "code",
   "execution_count": 8,
   "id": "above-karaoke",
   "metadata": {},
   "outputs": [
    {
     "data": {
      "text/plain": [
       "dtype('O')"
      ]
     },
     "execution_count": 8,
     "metadata": {},
     "output_type": "execute_result"
    }
   ],
   "source": [
    "df.Date.dtype"
   ]
  },
  {
   "cell_type": "code",
   "execution_count": 9,
   "id": "ethical-heading",
   "metadata": {},
   "outputs": [
    {
     "data": {
      "text/plain": [
       "<matplotlib.collections.PathCollection at 0x2b364119610>"
      ]
     },
     "execution_count": 9,
     "metadata": {},
     "output_type": "execute_result"
    },
    {
     "data": {
      "image/png": "[encoded data removed]",
      "text/plain": [
       "<Figure size 432x288 with 1 Axes>"
      ]
     },
     "metadata": {
      "needs_background": "light"
     },
     "output_type": "display_data"
    }
   ],
   "source": [
    "fig,ax = plt.subplots()\n",
    "ax.scatter(df[\"Date\"][:1000],df[\"Positive\"][:1000])"
   ]
  },
  {
   "cell_type": "code",
   "execution_count": 10,
   "id": "overhead-martin",
   "metadata": {},
   "outputs": [
    {
     "data": {
      "text/plain": [
       "<AxesSubplot:ylabel='Frequency'>"
      ]
     },
     "execution_count": 10,
     "metadata": {},
     "output_type": "execute_result"
    },
    {
     "data": {
      "image/png": "[encoded data removed]",
      "text/plain": [
       "<Figure size 432x288 with 1 Axes>"
      ]
     },
     "metadata": {
      "needs_background": "light"
     },
     "output_type": "display_data"
    }
   ],
   "source": [
    "df.Positive.plot.hist()"
   ]
  },
  {
   "cell_type": "markdown",
   "id": "southeast-reducing",
   "metadata": {},
   "source": [
    "### Parsing dates\n",
    "\n",
    "When we work with time series data, we want to enrich the time and date componenet as much as possible.\n",
    "\n",
    "We can do that by telling pandas which of our columns has dates in it using the `parse_dates` parameter"
   ]
  },
  {
   "cell_type": "code",
   "execution_count": 11,
   "id": "organized-david",
   "metadata": {},
   "outputs": [],
   "source": [
    "df=pd.read_csv('StatewiseTestingDetails.csv',low_memory=False,\n",
    "               parse_dates=[\"Date\"])"
   ]
  },
  {
   "cell_type": "code",
   "execution_count": 12,
   "id": "canadian-solomon",
   "metadata": {},
   "outputs": [
    {
     "data": {
      "text/plain": [
       "dtype('<M8[ns]')"
      ]
     },
     "execution_count": 12,
     "metadata": {},
     "output_type": "execute_result"
    }
   ],
   "source": [
    "df.Date.dtype"
   ]
  },
  {
   "cell_type": "code",
   "execution_count": 13,
   "id": "deadly-equation",
   "metadata": {},
   "outputs": [
    {
     "data": {
      "text/plain": [
       "0     2020-04-17\n",
       "1     2020-04-24\n",
       "2     2020-04-27\n",
       "3     2020-05-01\n",
       "4     2020-05-16\n",
       "         ...    \n",
       "995   2020-11-29\n",
       "996   2020-11-30\n",
       "997   2020-12-01\n",
       "998   2020-12-02\n",
       "999   2020-12-03\n",
       "Name: Date, Length: 1000, dtype: datetime64[ns]"
      ]
     },
     "execution_count": 13,
     "metadata": {},
     "output_type": "execute_result"
    }
   ],
   "source": [
    "df.Date[:1000]"
   ]
  },
  {
   "cell_type": "code",
   "execution_count": 14,
   "id": "ahead-rebecca",
   "metadata": {},
   "outputs": [
    {
     "data": {
      "text/plain": [
       "<matplotlib.collections.PathCollection at 0x2b36485c220>"
      ]
     },
     "execution_count": 14,
     "metadata": {},
     "output_type": "execute_result"
    },
    {
     "data": {
      "image/png": "[encoded data removed]",
      "text/plain": [
       "<Figure size 432x288 with 1 Axes>"
      ]
     },
     "metadata": {
      "needs_background": "light"
     },
     "output_type": "display_data"
    }
   ],
   "source": [
    "fig,ax = plt.subplots()\n",
    "ax.scatter(df[\"Date\"][:1000],df[\"Positive\"][:1000])"
   ]
  },
  {
   "cell_type": "markdown",
   "id": "enabling-steal",
   "metadata": {},
   "source": [
    "### Sort DataFrame by Date\n",
    "\n",
    "When working with time series data,it's a good idea to sort it by date."
   ]
  },
  {
   "cell_type": "code",
   "execution_count": 15,
   "id": "devoted-inventory",
   "metadata": {},
   "outputs": [
    {
     "data": {
      "text/plain": [
       "2920    2020-04-01\n",
       "12994   2020-04-01\n",
       "6151    2020-04-01\n",
       "6152    2020-04-02\n",
       "9933    2020-04-02\n",
       "3325    2020-04-02\n",
       "2352    2020-04-02\n",
       "1956    2020-04-02\n",
       "369     2020-04-02\n",
       "1166    2020-04-02\n",
       "12587   2020-04-02\n",
       "11076   2020-04-03\n",
       "4127    2020-04-03\n",
       "9131    2020-04-03\n",
       "5744    2020-04-03\n",
       "6153    2020-04-03\n",
       "6154    2020-04-04\n",
       "12995   2020-04-04\n",
       "12181   2020-04-05\n",
       "12182   2020-04-05\n",
       "Name: Date, dtype: datetime64[ns]"
      ]
     },
     "execution_count": 15,
     "metadata": {},
     "output_type": "execute_result"
    }
   ],
   "source": [
    "df.sort_values(by=[\"Date\"],inplace=True,ascending=True)\n",
    "df.Date.head(20)"
   ]
  },
  {
   "cell_type": "code",
   "execution_count": 180,
   "id": "nonprofit-slave",
   "metadata": {},
   "outputs": [
    {
     "data": {
      "text/plain": [
       "2920          NaN\n",
       "12994         568\n",
       "6151         7256\n",
       "6152         7622\n",
       "9933          NaN\n",
       "           ...   \n",
       "772      16664935\n",
       "9932       825199\n",
       "6563          NaN\n",
       "4534          NaN\n",
       "13402         NaN\n",
       "Name: Negative, Length: 13403, dtype: object"
      ]
     },
     "execution_count": 180,
     "metadata": {},
     "output_type": "execute_result"
    }
   ],
   "source": [
    "df.pop(\"Negative\")"
   ]
  },
  {
   "cell_type": "code",
   "execution_count": 185,
   "id": "varying-sandwich",
   "metadata": {},
   "outputs": [],
   "source": [
    "df = df.dropna()"
   ]
  },
  {
   "cell_type": "code",
   "execution_count": 186,
   "id": "amateur-kentucky",
   "metadata": {},
   "outputs": [
    {
     "data": {
      "text/plain": [
       "array(['West Bengal', 'Kerala', 'Punjab', 'Goa', 'Chhattisgarh',\n",
       "       'Chandigarh', 'Andhra Pradesh', 'Assam', 'Uttarakhand',\n",
       "       'Tamil Nadu', 'Haryana', 'Odisha', 'Karnataka', 'Uttar Pradesh',\n",
       "       'Jammu and Kashmir', 'Bihar', 'Madhya Pradesh', 'Nagaland',\n",
       "       'Maharashtra', 'Mizoram', 'Delhi', 'Rajasthan', 'Gujarat',\n",
       "       'Arunachal Pradesh', 'Dadra and Nagar Haveli and Daman and Diu',\n",
       "       'Himachal Pradesh', 'Jharkhand', 'Tripura', 'Ladakh', 'Manipur',\n",
       "       'Meghalaya', 'Andaman and Nicobar Islands', 'Puducherry',\n",
       "       'Telangana', 'Sikkim'], dtype=object)"
      ]
     },
     "execution_count": 186,
     "metadata": {},
     "output_type": "execute_result"
    }
   ],
   "source": [
    "df.State.unique()"
   ]
  },
  {
   "cell_type": "markdown",
   "id": "painful-policy",
   "metadata": {},
   "source": [
    "### Make a copy of original Dataframe\n",
    "\n",
    "We make a copy so when we manipulate we still got original data."
   ]
  },
  {
   "cell_type": "code",
   "execution_count": 16,
   "id": "aquatic-michael",
   "metadata": {},
   "outputs": [],
   "source": [
    "# Make a copy\n",
    "df_tmp=df.copy()"
   ]
  },
  {
   "cell_type": "code",
   "execution_count": 17,
   "id": "sought-valentine",
   "metadata": {},
   "outputs": [
    {
     "data": {
      "text/plain": [
       "2920    2020-04-01\n",
       "12994   2020-04-01\n",
       "6151    2020-04-01\n",
       "6152    2020-04-02\n",
       "9933    2020-04-02\n",
       "3325    2020-04-02\n",
       "2352    2020-04-02\n",
       "1956    2020-04-02\n",
       "369     2020-04-02\n",
       "1166    2020-04-02\n",
       "12587   2020-04-02\n",
       "11076   2020-04-03\n",
       "4127    2020-04-03\n",
       "9131    2020-04-03\n",
       "5744    2020-04-03\n",
       "6153    2020-04-03\n",
       "6154    2020-04-04\n",
       "12995   2020-04-04\n",
       "12181   2020-04-05\n",
       "12182   2020-04-05\n",
       "Name: Date, dtype: datetime64[ns]"
      ]
     },
     "execution_count": 17,
     "metadata": {},
     "output_type": "execute_result"
    }
   ],
   "source": [
    "df_tmp.Date.head(20)"
   ]
  },
  {
   "cell_type": "markdown",
   "id": "herbal-island",
   "metadata": {},
   "source": [
    "### Add datetime parameters for Date column"
   ]
  },
  {
   "cell_type": "code",
   "execution_count": 18,
   "id": "prime-percentage",
   "metadata": {},
   "outputs": [],
   "source": [
    "df_tmp[\"Year\"]=df_tmp.Date.dt.year\n",
    "df_tmp[\"Month\"]=df_tmp.Date.dt.month\n",
    "df_tmp[\"Day\"]=df_tmp.Date.dt.day\n",
    "df_tmp[\"DayOfWeek\"]=df_tmp.Date.dt.dayofweek\n",
    "df_tmp[\"DayOfYear\"]=df_tmp.Date.dt.dayofyear"
   ]
  },
  {
   "cell_type": "code",
   "execution_count": 19,
   "id": "latest-great",
   "metadata": {},
   "outputs": [
    {
     "data": {
      "text/html": [
       "<div>\n",
       "<style scoped>\n",
       "    .dataframe tbody tr th:only-of-type {\n",
       "        vertical-align: middle;\n",
       "    }\n",
       "\n",
       "    .dataframe tbody tr th {\n",
       "        vertical-align: top;\n",
       "    }\n",
       "\n",
       "    .dataframe thead th {\n",
       "        text-align: right;\n",
       "    }\n",
       "</style>\n",
       "<table border=\"1\" class=\"dataframe\">\n",
       "  <thead>\n",
       "    <tr style=\"text-align: right;\">\n",
       "      <th></th>\n",
       "      <th>2920</th>\n",
       "      <th>12994</th>\n",
       "      <th>6151</th>\n",
       "      <th>6152</th>\n",
       "      <th>9933</th>\n",
       "    </tr>\n",
       "  </thead>\n",
       "  <tbody>\n",
       "    <tr>\n",
       "      <th>Date</th>\n",
       "      <td>2020-04-01 00:00:00</td>\n",
       "      <td>2020-04-01 00:00:00</td>\n",
       "      <td>2020-04-01 00:00:00</td>\n",
       "      <td>2020-04-02 00:00:00</td>\n",
       "      <td>2020-04-02 00:00:00</td>\n",
       "    </tr>\n",
       "    <tr>\n",
       "      <th>State</th>\n",
       "      <td>Delhi</td>\n",
       "      <td>West Bengal</td>\n",
       "      <td>Kerala</td>\n",
       "      <td>Kerala</td>\n",
       "      <td>Punjab</td>\n",
       "    </tr>\n",
       "    <tr>\n",
       "      <th>TotalSamples</th>\n",
       "      <td>2621</td>\n",
       "      <td>659</td>\n",
       "      <td>7965</td>\n",
       "      <td>8456</td>\n",
       "      <td>1434</td>\n",
       "    </tr>\n",
       "    <tr>\n",
       "      <th>Negative</th>\n",
       "      <td>NaN</td>\n",
       "      <td>568</td>\n",
       "      <td>7256</td>\n",
       "      <td>7622</td>\n",
       "      <td>NaN</td>\n",
       "    </tr>\n",
       "    <tr>\n",
       "      <th>Positive</th>\n",
       "      <td>NaN</td>\n",
       "      <td>37.0</td>\n",
       "      <td>265.0</td>\n",
       "      <td>286.0</td>\n",
       "      <td>37.0</td>\n",
       "    </tr>\n",
       "    <tr>\n",
       "      <th>Year</th>\n",
       "      <td>2020</td>\n",
       "      <td>2020</td>\n",
       "      <td>2020</td>\n",
       "      <td>2020</td>\n",
       "      <td>2020</td>\n",
       "    </tr>\n",
       "    <tr>\n",
       "      <th>Month</th>\n",
       "      <td>4</td>\n",
       "      <td>4</td>\n",
       "      <td>4</td>\n",
       "      <td>4</td>\n",
       "      <td>4</td>\n",
       "    </tr>\n",
       "    <tr>\n",
       "      <th>Day</th>\n",
       "      <td>1</td>\n",
       "      <td>1</td>\n",
       "      <td>1</td>\n",
       "      <td>2</td>\n",
       "      <td>2</td>\n",
       "    </tr>\n",
       "    <tr>\n",
       "      <th>DayOfWeek</th>\n",
       "      <td>2</td>\n",
       "      <td>2</td>\n",
       "      <td>2</td>\n",
       "      <td>3</td>\n",
       "      <td>3</td>\n",
       "    </tr>\n",
       "    <tr>\n",
       "      <th>DayOfYear</th>\n",
       "      <td>92</td>\n",
       "      <td>92</td>\n",
       "      <td>92</td>\n",
       "      <td>93</td>\n",
       "      <td>93</td>\n",
       "    </tr>\n",
       "  </tbody>\n",
       "</table>\n",
       "</div>"
      ],
      "text/plain": [
       "                            2920                 12994                6151   \\\n",
       "Date          2020-04-01 00:00:00  2020-04-01 00:00:00  2020-04-01 00:00:00   \n",
       "State                       Delhi          West Bengal               Kerala   \n",
       "TotalSamples                 2621                  659                 7965   \n",
       "Negative                      NaN                  568                 7256   \n",
       "Positive                      NaN                 37.0                265.0   \n",
       "Year                         2020                 2020                 2020   \n",
       "Month                           4                    4                    4   \n",
       "Day                             1                    1                    1   \n",
       "DayOfWeek                       2                    2                    2   \n",
       "DayOfYear                      92                   92                   92   \n",
       "\n",
       "                            6152                 9933   \n",
       "Date          2020-04-02 00:00:00  2020-04-02 00:00:00  \n",
       "State                      Kerala               Punjab  \n",
       "TotalSamples                 8456                 1434  \n",
       "Negative                     7622                  NaN  \n",
       "Positive                    286.0                 37.0  \n",
       "Year                         2020                 2020  \n",
       "Month                           4                    4  \n",
       "Day                             2                    2  \n",
       "DayOfWeek                       3                    3  \n",
       "DayOfYear                      93                   93  "
      ]
     },
     "execution_count": 19,
     "metadata": {},
     "output_type": "execute_result"
    }
   ],
   "source": [
    "df_tmp.head().T"
   ]
  },
  {
   "cell_type": "code",
   "execution_count": 20,
   "id": "instructional-tennis",
   "metadata": {},
   "outputs": [],
   "source": [
    "df_tmp.drop(\"Date\",axis=1,inplace=True)"
   ]
  },
  {
   "cell_type": "code",
   "execution_count": 21,
   "id": "listed-mason",
   "metadata": {},
   "outputs": [
    {
     "data": {
      "text/html": [
       "<div>\n",
       "<style scoped>\n",
       "    .dataframe tbody tr th:only-of-type {\n",
       "        vertical-align: middle;\n",
       "    }\n",
       "\n",
       "    .dataframe tbody tr th {\n",
       "        vertical-align: top;\n",
       "    }\n",
       "\n",
       "    .dataframe thead th {\n",
       "        text-align: right;\n",
       "    }\n",
       "</style>\n",
       "<table border=\"1\" class=\"dataframe\">\n",
       "  <thead>\n",
       "    <tr style=\"text-align: right;\">\n",
       "      <th></th>\n",
       "      <th>2920</th>\n",
       "      <th>12994</th>\n",
       "      <th>6151</th>\n",
       "      <th>6152</th>\n",
       "      <th>9933</th>\n",
       "    </tr>\n",
       "  </thead>\n",
       "  <tbody>\n",
       "    <tr>\n",
       "      <th>State</th>\n",
       "      <td>Delhi</td>\n",
       "      <td>West Bengal</td>\n",
       "      <td>Kerala</td>\n",
       "      <td>Kerala</td>\n",
       "      <td>Punjab</td>\n",
       "    </tr>\n",
       "    <tr>\n",
       "      <th>TotalSamples</th>\n",
       "      <td>2621</td>\n",
       "      <td>659</td>\n",
       "      <td>7965</td>\n",
       "      <td>8456</td>\n",
       "      <td>1434</td>\n",
       "    </tr>\n",
       "    <tr>\n",
       "      <th>Negative</th>\n",
       "      <td>NaN</td>\n",
       "      <td>568</td>\n",
       "      <td>7256</td>\n",
       "      <td>7622</td>\n",
       "      <td>NaN</td>\n",
       "    </tr>\n",
       "    <tr>\n",
       "      <th>Positive</th>\n",
       "      <td>NaN</td>\n",
       "      <td>37.0</td>\n",
       "      <td>265.0</td>\n",
       "      <td>286.0</td>\n",
       "      <td>37.0</td>\n",
       "    </tr>\n",
       "    <tr>\n",
       "      <th>Year</th>\n",
       "      <td>2020</td>\n",
       "      <td>2020</td>\n",
       "      <td>2020</td>\n",
       "      <td>2020</td>\n",
       "      <td>2020</td>\n",
       "    </tr>\n",
       "    <tr>\n",
       "      <th>Month</th>\n",
       "      <td>4</td>\n",
       "      <td>4</td>\n",
       "      <td>4</td>\n",
       "      <td>4</td>\n",
       "      <td>4</td>\n",
       "    </tr>\n",
       "    <tr>\n",
       "      <th>Day</th>\n",
       "      <td>1</td>\n",
       "      <td>1</td>\n",
       "      <td>1</td>\n",
       "      <td>2</td>\n",
       "      <td>2</td>\n",
       "    </tr>\n",
       "    <tr>\n",
       "      <th>DayOfWeek</th>\n",
       "      <td>2</td>\n",
       "      <td>2</td>\n",
       "      <td>2</td>\n",
       "      <td>3</td>\n",
       "      <td>3</td>\n",
       "    </tr>\n",
       "    <tr>\n",
       "      <th>DayOfYear</th>\n",
       "      <td>92</td>\n",
       "      <td>92</td>\n",
       "      <td>92</td>\n",
       "      <td>93</td>\n",
       "      <td>93</td>\n",
       "    </tr>\n",
       "  </tbody>\n",
       "</table>\n",
       "</div>"
      ],
      "text/plain": [
       "              2920         12994   6151    6152    9933 \n",
       "State         Delhi  West Bengal  Kerala  Kerala  Punjab\n",
       "TotalSamples   2621          659    7965    8456    1434\n",
       "Negative        NaN          568    7256    7622     NaN\n",
       "Positive        NaN         37.0   265.0   286.0    37.0\n",
       "Year           2020         2020    2020    2020    2020\n",
       "Month             4            4       4       4       4\n",
       "Day               1            1       1       2       2\n",
       "DayOfWeek         2            2       2       3       3\n",
       "DayOfYear        92           92      92      93      93"
      ]
     },
     "execution_count": 21,
     "metadata": {},
     "output_type": "execute_result"
    }
   ],
   "source": [
    "df_tmp.head().T"
   ]
  },
  {
   "cell_type": "code",
   "execution_count": 22,
   "id": "together-netscape",
   "metadata": {},
   "outputs": [
    {
     "data": {
      "text/plain": [
       "Kerala                                      413\n",
       "West Bengal                                 409\n",
       "Haryana                                     408\n",
       "Odisha                                      408\n",
       "Madhya Pradesh                              408\n",
       "Punjab                                      407\n",
       "Uttarakhand                                 407\n",
       "Tamil Nadu                                  407\n",
       "Rajasthan                                   407\n",
       "Karnataka                                   407\n",
       "Uttar Pradesh                               406\n",
       "Delhi                                       405\n",
       "Bihar                                       405\n",
       "Jammu and Kashmir                           405\n",
       "Maharashtra                                 404\n",
       "Himachal Pradesh                            404\n",
       "Andhra Pradesh                              404\n",
       "Gujarat                                     403\n",
       "Nagaland                                    400\n",
       "Jharkhand                                   400\n",
       "Goa                                         399\n",
       "Chhattisgarh                                398\n",
       "Chandigarh                                  396\n",
       "Puducherry                                  394\n",
       "Arunachal Pradesh                           393\n",
       "Mizoram                                     386\n",
       "Assam                                       385\n",
       "Andaman and Nicobar Islands                 369\n",
       "Tripura                                     363\n",
       "Telangana                                   335\n",
       "Sikkim                                      329\n",
       "Meghalaya                                   326\n",
       "Manipur                                     322\n",
       "Ladakh                                      210\n",
       "Dadra and Nagar Haveli and Daman and Diu    170\n",
       "Lakshadweep                                 111\n",
       "Name: State, dtype: int64"
      ]
     },
     "execution_count": 22,
     "metadata": {},
     "output_type": "execute_result"
    }
   ],
   "source": [
    "df_tmp.State.value_counts()"
   ]
  },
  {
   "cell_type": "code",
   "execution_count": 23,
   "id": "romance-bulletin",
   "metadata": {},
   "outputs": [
    {
     "data": {
      "text/plain": [
       "State              0\n",
       "TotalSamples       0\n",
       "Negative        7273\n",
       "Positive        7959\n",
       "Year               0\n",
       "Month              0\n",
       "Day                0\n",
       "DayOfWeek          0\n",
       "DayOfYear          0\n",
       "dtype: int64"
      ]
     },
     "execution_count": 23,
     "metadata": {},
     "output_type": "execute_result"
    }
   ],
   "source": [
    "df_tmp.isna().sum()"
   ]
  },
  {
   "cell_type": "markdown",
   "id": "according-concern",
   "metadata": {},
   "source": [
    "### Convert String to Categories\n",
    "\n",
    "One way we can turn all of our data into numbers is by converting them into pandas categories.\n"
   ]
  },
  {
   "cell_type": "code",
   "execution_count": 24,
   "id": "smart-slave",
   "metadata": {},
   "outputs": [
    {
     "data": {
      "text/html": [
       "<div>\n",
       "<style scoped>\n",
       "    .dataframe tbody tr th:only-of-type {\n",
       "        vertical-align: middle;\n",
       "    }\n",
       "\n",
       "    .dataframe tbody tr th {\n",
       "        vertical-align: top;\n",
       "    }\n",
       "\n",
       "    .dataframe thead th {\n",
       "        text-align: right;\n",
       "    }\n",
       "</style>\n",
       "<table border=\"1\" class=\"dataframe\">\n",
       "  <thead>\n",
       "    <tr style=\"text-align: right;\">\n",
       "      <th></th>\n",
       "      <th>2920</th>\n",
       "      <th>12994</th>\n",
       "      <th>6151</th>\n",
       "      <th>6152</th>\n",
       "      <th>9933</th>\n",
       "    </tr>\n",
       "  </thead>\n",
       "  <tbody>\n",
       "    <tr>\n",
       "      <th>State</th>\n",
       "      <td>Delhi</td>\n",
       "      <td>West Bengal</td>\n",
       "      <td>Kerala</td>\n",
       "      <td>Kerala</td>\n",
       "      <td>Punjab</td>\n",
       "    </tr>\n",
       "    <tr>\n",
       "      <th>TotalSamples</th>\n",
       "      <td>2621</td>\n",
       "      <td>659</td>\n",
       "      <td>7965</td>\n",
       "      <td>8456</td>\n",
       "      <td>1434</td>\n",
       "    </tr>\n",
       "    <tr>\n",
       "      <th>Negative</th>\n",
       "      <td>NaN</td>\n",
       "      <td>568</td>\n",
       "      <td>7256</td>\n",
       "      <td>7622</td>\n",
       "      <td>NaN</td>\n",
       "    </tr>\n",
       "    <tr>\n",
       "      <th>Positive</th>\n",
       "      <td>NaN</td>\n",
       "      <td>37.0</td>\n",
       "      <td>265.0</td>\n",
       "      <td>286.0</td>\n",
       "      <td>37.0</td>\n",
       "    </tr>\n",
       "    <tr>\n",
       "      <th>Year</th>\n",
       "      <td>2020</td>\n",
       "      <td>2020</td>\n",
       "      <td>2020</td>\n",
       "      <td>2020</td>\n",
       "      <td>2020</td>\n",
       "    </tr>\n",
       "    <tr>\n",
       "      <th>Month</th>\n",
       "      <td>4</td>\n",
       "      <td>4</td>\n",
       "      <td>4</td>\n",
       "      <td>4</td>\n",
       "      <td>4</td>\n",
       "    </tr>\n",
       "    <tr>\n",
       "      <th>Day</th>\n",
       "      <td>1</td>\n",
       "      <td>1</td>\n",
       "      <td>1</td>\n",
       "      <td>2</td>\n",
       "      <td>2</td>\n",
       "    </tr>\n",
       "    <tr>\n",
       "      <th>DayOfWeek</th>\n",
       "      <td>2</td>\n",
       "      <td>2</td>\n",
       "      <td>2</td>\n",
       "      <td>3</td>\n",
       "      <td>3</td>\n",
       "    </tr>\n",
       "    <tr>\n",
       "      <th>DayOfYear</th>\n",
       "      <td>92</td>\n",
       "      <td>92</td>\n",
       "      <td>92</td>\n",
       "      <td>93</td>\n",
       "      <td>93</td>\n",
       "    </tr>\n",
       "  </tbody>\n",
       "</table>\n",
       "</div>"
      ],
      "text/plain": [
       "              2920         12994   6151    6152    9933 \n",
       "State         Delhi  West Bengal  Kerala  Kerala  Punjab\n",
       "TotalSamples   2621          659    7965    8456    1434\n",
       "Negative        NaN          568    7256    7622     NaN\n",
       "Positive        NaN         37.0   265.0   286.0    37.0\n",
       "Year           2020         2020    2020    2020    2020\n",
       "Month             4            4       4       4       4\n",
       "Day               1            1       1       2       2\n",
       "DayOfWeek         2            2       2       3       3\n",
       "DayOfYear        92           92      92      93      93"
      ]
     },
     "execution_count": 24,
     "metadata": {},
     "output_type": "execute_result"
    }
   ],
   "source": [
    "df_tmp.head().T"
   ]
  },
  {
   "cell_type": "code",
   "execution_count": 25,
   "id": "variable-surge",
   "metadata": {},
   "outputs": [
    {
     "data": {
      "text/plain": [
       "True"
      ]
     },
     "execution_count": 25,
     "metadata": {},
     "output_type": "execute_result"
    }
   ],
   "source": [
    "pd.api.types.is_string_dtype(df_tmp[\"State\"])"
   ]
  },
  {
   "cell_type": "code",
   "execution_count": 26,
   "id": "spatial-practitioner",
   "metadata": {},
   "outputs": [
    {
     "name": "stdout",
     "output_type": "stream",
     "text": [
      "State\n",
      "Negative\n"
     ]
    }
   ],
   "source": [
    "# Find the columns which contain strings\n",
    "for label,content in df_tmp.items():\n",
    "    if pd.api.types.is_string_dtype(content):\n",
    "        print(label)"
   ]
  },
  {
   "cell_type": "code",
   "execution_count": 27,
   "id": "dying-still",
   "metadata": {},
   "outputs": [
    {
     "data": {
      "text/plain": [
       "dtype('O')"
      ]
     },
     "execution_count": 27,
     "metadata": {},
     "output_type": "execute_result"
    }
   ],
   "source": [
    "df.Negative.dtype"
   ]
  },
  {
   "cell_type": "code",
   "execution_count": 28,
   "id": "suspected-elevation",
   "metadata": {},
   "outputs": [],
   "source": [
    "# This will turn all of the string values into category values\n",
    "for label,content in df_tmp.items():\n",
    "    if pd.api.types.is_string_dtype(content):\n",
    "        df_tmp[label]=content.astype(\"category\").cat.as_ordered()"
   ]
  },
  {
   "cell_type": "code",
   "execution_count": 29,
   "id": "modified-sunglasses",
   "metadata": {},
   "outputs": [
    {
     "name": "stdout",
     "output_type": "stream",
     "text": [
      "<class 'pandas.core.frame.DataFrame'>\n",
      "Int64Index: 13403 entries, 2920 to 13402\n",
      "Data columns (total 9 columns):\n",
      " #   Column        Non-Null Count  Dtype   \n",
      "---  ------        --------------  -----   \n",
      " 0   State         13403 non-null  category\n",
      " 1   TotalSamples  13403 non-null  int64   \n",
      " 2   Negative      6130 non-null   category\n",
      " 3   Positive      5444 non-null   float64 \n",
      " 4   Year          13403 non-null  int64   \n",
      " 5   Month         13403 non-null  int64   \n",
      " 6   Day           13403 non-null  int64   \n",
      " 7   DayOfWeek     13403 non-null  int64   \n",
      " 8   DayOfYear     13403 non-null  int64   \n",
      "dtypes: category(2), float64(1), int64(6)\n",
      "memory usage: 1.0 MB\n"
     ]
    }
   ],
   "source": [
    "df_tmp.info()"
   ]
  },
  {
   "cell_type": "code",
   "execution_count": 30,
   "id": "resident-reward",
   "metadata": {},
   "outputs": [
    {
     "data": {
      "text/plain": [
       "Index(['Andaman and Nicobar Islands', 'Andhra Pradesh', 'Arunachal Pradesh',\n",
       "       'Assam', 'Bihar', 'Chandigarh', 'Chhattisgarh',\n",
       "       'Dadra and Nagar Haveli and Daman and Diu', 'Delhi', 'Goa', 'Gujarat',\n",
       "       'Haryana', 'Himachal Pradesh', 'Jammu and Kashmir', 'Jharkhand',\n",
       "       'Karnataka', 'Kerala', 'Ladakh', 'Lakshadweep', 'Madhya Pradesh',\n",
       "       'Maharashtra', 'Manipur', 'Meghalaya', 'Mizoram', 'Nagaland', 'Odisha',\n",
       "       'Puducherry', 'Punjab', 'Rajasthan', 'Sikkim', 'Tamil Nadu',\n",
       "       'Telangana', 'Tripura', 'Uttar Pradesh', 'Uttarakhand', 'West Bengal'],\n",
       "      dtype='object')"
      ]
     },
     "execution_count": 30,
     "metadata": {},
     "output_type": "execute_result"
    }
   ],
   "source": [
    "df_tmp.State.cat.categories"
   ]
  },
  {
   "cell_type": "code",
   "execution_count": 31,
   "id": "atomic-absence",
   "metadata": {},
   "outputs": [
    {
     "data": {
      "text/plain": [
       "2920      8\n",
       "12994    35\n",
       "6151     16\n",
       "6152     16\n",
       "9933     27\n",
       "         ..\n",
       "772       1\n",
       "9932     26\n",
       "6563     16\n",
       "4534     11\n",
       "13402    35\n",
       "Length: 13403, dtype: int8"
      ]
     },
     "execution_count": 31,
     "metadata": {},
     "output_type": "execute_result"
    }
   ],
   "source": [
    "df_tmp.State.cat.codes"
   ]
  },
  {
   "cell_type": "markdown",
   "id": "vertical-smoke",
   "metadata": {},
   "source": [
    "# Save preprocessed data"
   ]
  },
  {
   "cell_type": "code",
   "execution_count": 32,
   "id": "grateful-heart",
   "metadata": {},
   "outputs": [],
   "source": [
    "# Export current tmp dataframe\n",
    "df_tmp.to_csv(\"case-prediction-tmp.csv\",index=False)"
   ]
  },
  {
   "cell_type": "code",
   "execution_count": 33,
   "id": "junior-initial",
   "metadata": {},
   "outputs": [],
   "source": [
    "# Import preprocessed data\n",
    "df_tmp=pd.read_csv(\"case-prediction-tmp.csv\",low_memory=False)"
   ]
  },
  {
   "cell_type": "code",
   "execution_count": 34,
   "id": "centered-consistency",
   "metadata": {},
   "outputs": [
    {
     "data": {
      "text/html": [
       "<div>\n",
       "<style scoped>\n",
       "    .dataframe tbody tr th:only-of-type {\n",
       "        vertical-align: middle;\n",
       "    }\n",
       "\n",
       "    .dataframe tbody tr th {\n",
       "        vertical-align: top;\n",
       "    }\n",
       "\n",
       "    .dataframe thead th {\n",
       "        text-align: right;\n",
       "    }\n",
       "</style>\n",
       "<table border=\"1\" class=\"dataframe\">\n",
       "  <thead>\n",
       "    <tr style=\"text-align: right;\">\n",
       "      <th></th>\n",
       "      <th>0</th>\n",
       "      <th>1</th>\n",
       "      <th>2</th>\n",
       "      <th>3</th>\n",
       "      <th>4</th>\n",
       "    </tr>\n",
       "  </thead>\n",
       "  <tbody>\n",
       "    <tr>\n",
       "      <th>State</th>\n",
       "      <td>Delhi</td>\n",
       "      <td>West Bengal</td>\n",
       "      <td>Kerala</td>\n",
       "      <td>Kerala</td>\n",
       "      <td>Punjab</td>\n",
       "    </tr>\n",
       "    <tr>\n",
       "      <th>TotalSamples</th>\n",
       "      <td>2621</td>\n",
       "      <td>659</td>\n",
       "      <td>7965</td>\n",
       "      <td>8456</td>\n",
       "      <td>1434</td>\n",
       "    </tr>\n",
       "    <tr>\n",
       "      <th>Negative</th>\n",
       "      <td>NaN</td>\n",
       "      <td>568</td>\n",
       "      <td>7256</td>\n",
       "      <td>7622</td>\n",
       "      <td>NaN</td>\n",
       "    </tr>\n",
       "    <tr>\n",
       "      <th>Positive</th>\n",
       "      <td>NaN</td>\n",
       "      <td>37.0</td>\n",
       "      <td>265.0</td>\n",
       "      <td>286.0</td>\n",
       "      <td>37.0</td>\n",
       "    </tr>\n",
       "    <tr>\n",
       "      <th>Year</th>\n",
       "      <td>2020</td>\n",
       "      <td>2020</td>\n",
       "      <td>2020</td>\n",
       "      <td>2020</td>\n",
       "      <td>2020</td>\n",
       "    </tr>\n",
       "    <tr>\n",
       "      <th>Month</th>\n",
       "      <td>4</td>\n",
       "      <td>4</td>\n",
       "      <td>4</td>\n",
       "      <td>4</td>\n",
       "      <td>4</td>\n",
       "    </tr>\n",
       "    <tr>\n",
       "      <th>Day</th>\n",
       "      <td>1</td>\n",
       "      <td>1</td>\n",
       "      <td>1</td>\n",
       "      <td>2</td>\n",
       "      <td>2</td>\n",
       "    </tr>\n",
       "    <tr>\n",
       "      <th>DayOfWeek</th>\n",
       "      <td>2</td>\n",
       "      <td>2</td>\n",
       "      <td>2</td>\n",
       "      <td>3</td>\n",
       "      <td>3</td>\n",
       "    </tr>\n",
       "    <tr>\n",
       "      <th>DayOfYear</th>\n",
       "      <td>92</td>\n",
       "      <td>92</td>\n",
       "      <td>92</td>\n",
       "      <td>93</td>\n",
       "      <td>93</td>\n",
       "    </tr>\n",
       "  </tbody>\n",
       "</table>\n",
       "</div>"
      ],
      "text/plain": [
       "                  0            1       2       3       4\n",
       "State         Delhi  West Bengal  Kerala  Kerala  Punjab\n",
       "TotalSamples   2621          659    7965    8456    1434\n",
       "Negative        NaN          568    7256    7622     NaN\n",
       "Positive        NaN         37.0   265.0   286.0    37.0\n",
       "Year           2020         2020    2020    2020    2020\n",
       "Month             4            4       4       4       4\n",
       "Day               1            1       1       2       2\n",
       "DayOfWeek         2            2       2       3       3\n",
       "DayOfYear        92           92      92      93      93"
      ]
     },
     "execution_count": 34,
     "metadata": {},
     "output_type": "execute_result"
    }
   ],
   "source": [
    "df_tmp.head().T"
   ]
  },
  {
   "cell_type": "markdown",
   "id": "printable-pearl",
   "metadata": {},
   "source": [
    "###  Fill missing values\n",
    "\n",
    "#### Fill numeric missing values first"
   ]
  },
  {
   "cell_type": "code",
   "execution_count": 35,
   "id": "combined-threat",
   "metadata": {},
   "outputs": [
    {
     "name": "stdout",
     "output_type": "stream",
     "text": [
      "TotalSamples\n",
      "Positive\n",
      "Year\n",
      "Month\n",
      "Day\n",
      "DayOfWeek\n",
      "DayOfYear\n"
     ]
    }
   ],
   "source": [
    "for label,content in df_tmp.items():\n",
    "    if pd.api.types.is_numeric_dtype(content):\n",
    "        print(label)\n",
    "    "
   ]
  },
  {
   "cell_type": "code",
   "execution_count": 36,
   "id": "unauthorized-invite",
   "metadata": {},
   "outputs": [
    {
     "name": "stdout",
     "output_type": "stream",
     "text": [
      "Positive\n"
     ]
    }
   ],
   "source": [
    "# Check for which numeric columns have null values\n",
    "for label,content in df_tmp.items():\n",
    "    if pd.api.types.is_numeric_dtype(content):\n",
    "        if pd.isnull(content).sum():\n",
    "            print(label)"
   ]
  },
  {
   "cell_type": "code",
   "execution_count": 37,
   "id": "apparent-delhi",
   "metadata": {},
   "outputs": [],
   "source": [
    "# Fill numeric rows with the median\n",
    "for label,content in df_tmp.items():\n",
    "    if pd.api.types.is_numeric_dtype(content):\n",
    "        if pd.isnull(content).sum():\n",
    "            # Fill missing values with mean\n",
    "            df_tmp[label]=content.fillna(content.median())"
   ]
  },
  {
   "cell_type": "code",
   "execution_count": 52,
   "id": "literary-factory",
   "metadata": {},
   "outputs": [
    {
     "data": {
      "text/plain": [
       "(100.0, 990198.0198019802, 100.0, 100.0)"
      ]
     },
     "execution_count": 52,
     "metadata": {},
     "output_type": "execute_result"
    }
   ],
   "source": [
    "# Demonstrate how median is more robust than mean\n",
    "hundreds=np.full((100,),100)\n",
    "hundreds_billion=np.append(hundreds,100000000)\n",
    "np.mean(hundreds),np.mean(hundreds_billion),np.median(hundreds),np.median(hundreds_billion)"
   ]
  },
  {
   "cell_type": "code",
   "execution_count": 53,
   "id": "detected-report",
   "metadata": {},
   "outputs": [
    {
     "data": {
      "text/plain": [
       "array([      100,       100,       100,       100,       100,       100,\n",
       "             100,       100,       100,       100,       100,       100,\n",
       "             100,       100,       100,       100,       100,       100,\n",
       "             100,       100,       100,       100,       100,       100,\n",
       "             100,       100,       100,       100,       100,       100,\n",
       "             100,       100,       100,       100,       100,       100,\n",
       "             100,       100,       100,       100,       100,       100,\n",
       "             100,       100,       100,       100,       100,       100,\n",
       "             100,       100,       100,       100,       100,       100,\n",
       "             100,       100,       100,       100,       100,       100,\n",
       "             100,       100,       100,       100,       100,       100,\n",
       "             100,       100,       100,       100,       100,       100,\n",
       "             100,       100,       100,       100,       100,       100,\n",
       "             100,       100,       100,       100,       100,       100,\n",
       "             100,       100,       100,       100,       100,       100,\n",
       "             100,       100,       100,       100,       100,       100,\n",
       "             100,       100,       100,       100, 100000000])"
      ]
     },
     "execution_count": 53,
     "metadata": {},
     "output_type": "execute_result"
    }
   ],
   "source": [
    "hundreds_billion"
   ]
  },
  {
   "cell_type": "code",
   "execution_count": 38,
   "id": "supported-width",
   "metadata": {},
   "outputs": [],
   "source": [
    "# Check if there is any null numeric values\n",
    "for label,content in df_tmp.items():\n",
    "    if pd.api.types.is_numeric_dtype(content):\n",
    "        if pd.isnull(content).sum():\n",
    "            print(label)"
   ]
  },
  {
   "cell_type": "code",
   "execution_count": 39,
   "id": "literary-magazine",
   "metadata": {},
   "outputs": [
    {
     "data": {
      "text/plain": [
       "State              0\n",
       "TotalSamples       0\n",
       "Negative        7273\n",
       "Positive           0\n",
       "Year               0\n",
       "Month              0\n",
       "Day                0\n",
       "DayOfWeek          0\n",
       "DayOfYear          0\n",
       "dtype: int64"
      ]
     },
     "execution_count": 39,
     "metadata": {},
     "output_type": "execute_result"
    }
   ],
   "source": [
    "df_tmp.isna().sum()"
   ]
  },
  {
   "cell_type": "code",
   "execution_count": 40,
   "id": "above-amateur",
   "metadata": {},
   "outputs": [
    {
     "data": {
      "text/html": [
       "<div>\n",
       "<style scoped>\n",
       "    .dataframe tbody tr th:only-of-type {\n",
       "        vertical-align: middle;\n",
       "    }\n",
       "\n",
       "    .dataframe tbody tr th {\n",
       "        vertical-align: top;\n",
       "    }\n",
       "\n",
       "    .dataframe thead th {\n",
       "        text-align: right;\n",
       "    }\n",
       "</style>\n",
       "<table border=\"1\" class=\"dataframe\">\n",
       "  <thead>\n",
       "    <tr style=\"text-align: right;\">\n",
       "      <th></th>\n",
       "      <th>0</th>\n",
       "      <th>1</th>\n",
       "      <th>2</th>\n",
       "      <th>3</th>\n",
       "      <th>4</th>\n",
       "    </tr>\n",
       "  </thead>\n",
       "  <tbody>\n",
       "    <tr>\n",
       "      <th>State</th>\n",
       "      <td>Delhi</td>\n",
       "      <td>West Bengal</td>\n",
       "      <td>Kerala</td>\n",
       "      <td>Kerala</td>\n",
       "      <td>Punjab</td>\n",
       "    </tr>\n",
       "    <tr>\n",
       "      <th>TotalSamples</th>\n",
       "      <td>2621</td>\n",
       "      <td>659</td>\n",
       "      <td>7965</td>\n",
       "      <td>8456</td>\n",
       "      <td>1434</td>\n",
       "    </tr>\n",
       "    <tr>\n",
       "      <th>Negative</th>\n",
       "      <td>NaN</td>\n",
       "      <td>568</td>\n",
       "      <td>7256</td>\n",
       "      <td>7622</td>\n",
       "      <td>NaN</td>\n",
       "    </tr>\n",
       "    <tr>\n",
       "      <th>Positive</th>\n",
       "      <td>4196.5</td>\n",
       "      <td>37.0</td>\n",
       "      <td>265.0</td>\n",
       "      <td>286.0</td>\n",
       "      <td>37.0</td>\n",
       "    </tr>\n",
       "    <tr>\n",
       "      <th>Year</th>\n",
       "      <td>2020</td>\n",
       "      <td>2020</td>\n",
       "      <td>2020</td>\n",
       "      <td>2020</td>\n",
       "      <td>2020</td>\n",
       "    </tr>\n",
       "    <tr>\n",
       "      <th>Month</th>\n",
       "      <td>4</td>\n",
       "      <td>4</td>\n",
       "      <td>4</td>\n",
       "      <td>4</td>\n",
       "      <td>4</td>\n",
       "    </tr>\n",
       "    <tr>\n",
       "      <th>Day</th>\n",
       "      <td>1</td>\n",
       "      <td>1</td>\n",
       "      <td>1</td>\n",
       "      <td>2</td>\n",
       "      <td>2</td>\n",
       "    </tr>\n",
       "    <tr>\n",
       "      <th>DayOfWeek</th>\n",
       "      <td>2</td>\n",
       "      <td>2</td>\n",
       "      <td>2</td>\n",
       "      <td>3</td>\n",
       "      <td>3</td>\n",
       "    </tr>\n",
       "    <tr>\n",
       "      <th>DayOfYear</th>\n",
       "      <td>92</td>\n",
       "      <td>92</td>\n",
       "      <td>92</td>\n",
       "      <td>93</td>\n",
       "      <td>93</td>\n",
       "    </tr>\n",
       "  </tbody>\n",
       "</table>\n",
       "</div>"
      ],
      "text/plain": [
       "                   0            1       2       3       4\n",
       "State          Delhi  West Bengal  Kerala  Kerala  Punjab\n",
       "TotalSamples    2621          659    7965    8456    1434\n",
       "Negative         NaN          568    7256    7622     NaN\n",
       "Positive      4196.5         37.0   265.0   286.0    37.0\n",
       "Year            2020         2020    2020    2020    2020\n",
       "Month              4            4       4       4       4\n",
       "Day                1            1       1       2       2\n",
       "DayOfWeek          2            2       2       3       3\n",
       "DayOfYear         92           92      92      93      93"
      ]
     },
     "execution_count": 40,
     "metadata": {},
     "output_type": "execute_result"
    }
   ],
   "source": [
    "df_tmp.head().T"
   ]
  },
  {
   "cell_type": "code",
   "execution_count": 57,
   "id": "provincial-sodium",
   "metadata": {},
   "outputs": [
    {
     "data": {
      "text/plain": [
       "True     7959\n",
       "False    5444\n",
       "Name: Positive_is_missing, dtype: int64"
      ]
     },
     "execution_count": 57,
     "metadata": {},
     "output_type": "execute_result"
    }
   ],
   "source": [
    "df_tmp.Positive_is_missing.value_counts()"
   ]
  },
  {
   "cell_type": "markdown",
   "id": "common-insured",
   "metadata": {},
   "source": [
    "### Filling and turning categorical variable into numbers\n"
   ]
  },
  {
   "cell_type": "code",
   "execution_count": 41,
   "id": "unknown-basket",
   "metadata": {},
   "outputs": [
    {
     "name": "stdout",
     "output_type": "stream",
     "text": [
      "State\n",
      "Negative\n"
     ]
    }
   ],
   "source": [
    "# Check for columns which are not numeric\n",
    "for label,content in df_tmp.items():\n",
    "    if not pd.api.types.is_numeric_dtype(content):\n",
    "        print(label)"
   ]
  },
  {
   "cell_type": "code",
   "execution_count": 42,
   "id": "worldwide-romania",
   "metadata": {},
   "outputs": [],
   "source": [
    "# Turn Categorical variables into numbers and fill missing \n",
    "for label,content in df_tmp.items():\n",
    "    if not pd.api.types.is_numeric_dtype(content):\n",
    "        # Add a binary column to indicate whether sample had missing value\n",
    "        df_tmp[label] = pd.Categorical(content).codes+1"
   ]
  },
  {
   "cell_type": "code",
   "execution_count": 43,
   "id": "weird-recommendation",
   "metadata": {},
   "outputs": [
    {
     "data": {
      "text/plain": [
       "array([ 9, 36, 17, ..., 17, 12, 36], dtype=int8)"
      ]
     },
     "execution_count": 43,
     "metadata": {},
     "output_type": "execute_result"
    }
   ],
   "source": [
    "pd.Categorical(df_tmp[\"State\"]).codes+1"
   ]
  },
  {
   "cell_type": "code",
   "execution_count": 44,
   "id": "published-arena",
   "metadata": {},
   "outputs": [
    {
     "data": {
      "text/plain": [
       "array([   0, 4628, 5385, ...,    0,    0,    0], dtype=int16)"
      ]
     },
     "execution_count": 44,
     "metadata": {},
     "output_type": "execute_result"
    }
   ],
   "source": [
    "pd.Categorical(df_tmp[\"Negative\"]).codes"
   ]
  },
  {
   "cell_type": "code",
   "execution_count": 45,
   "id": "stopped-smoke",
   "metadata": {},
   "outputs": [
    {
     "name": "stdout",
     "output_type": "stream",
     "text": [
      "<class 'pandas.core.frame.DataFrame'>\n",
      "RangeIndex: 13403 entries, 0 to 13402\n",
      "Data columns (total 9 columns):\n",
      " #   Column        Non-Null Count  Dtype  \n",
      "---  ------        --------------  -----  \n",
      " 0   State         13403 non-null  int8   \n",
      " 1   TotalSamples  13403 non-null  int64  \n",
      " 2   Negative      13403 non-null  int16  \n",
      " 3   Positive      13403 non-null  float64\n",
      " 4   Year          13403 non-null  int64  \n",
      " 5   Month         13403 non-null  int64  \n",
      " 6   Day           13403 non-null  int64  \n",
      " 7   DayOfWeek     13403 non-null  int64  \n",
      " 8   DayOfYear     13403 non-null  int64  \n",
      "dtypes: float64(1), int16(1), int64(6), int8(1)\n",
      "memory usage: 772.4 KB\n"
     ]
    }
   ],
   "source": [
    "df_tmp.info()"
   ]
  },
  {
   "cell_type": "code",
   "execution_count": 46,
   "id": "binary-accordance",
   "metadata": {},
   "outputs": [
    {
     "data": {
      "text/plain": [
       "State           0\n",
       "TotalSamples    0\n",
       "Negative        0\n",
       "Positive        0\n",
       "Year            0\n",
       "Month           0\n",
       "Day             0\n",
       "DayOfWeek       0\n",
       "DayOfYear       0\n",
       "dtype: int64"
      ]
     },
     "execution_count": 46,
     "metadata": {},
     "output_type": "execute_result"
    }
   ],
   "source": [
    "df_tmp.isna().sum()"
   ]
  },
  {
   "cell_type": "code",
   "execution_count": 47,
   "id": "motivated-approval",
   "metadata": {},
   "outputs": [
    {
     "data": {
      "text/html": [
       "<div>\n",
       "<style scoped>\n",
       "    .dataframe tbody tr th:only-of-type {\n",
       "        vertical-align: middle;\n",
       "    }\n",
       "\n",
       "    .dataframe tbody tr th {\n",
       "        vertical-align: top;\n",
       "    }\n",
       "\n",
       "    .dataframe thead th {\n",
       "        text-align: right;\n",
       "    }\n",
       "</style>\n",
       "<table border=\"1\" class=\"dataframe\">\n",
       "  <thead>\n",
       "    <tr style=\"text-align: right;\">\n",
       "      <th></th>\n",
       "      <th>0</th>\n",
       "      <th>1</th>\n",
       "      <th>2</th>\n",
       "      <th>3</th>\n",
       "      <th>4</th>\n",
       "    </tr>\n",
       "  </thead>\n",
       "  <tbody>\n",
       "    <tr>\n",
       "      <th>State</th>\n",
       "      <td>9.0</td>\n",
       "      <td>36.0</td>\n",
       "      <td>17.0</td>\n",
       "      <td>17.0</td>\n",
       "      <td>28.0</td>\n",
       "    </tr>\n",
       "    <tr>\n",
       "      <th>TotalSamples</th>\n",
       "      <td>2621.0</td>\n",
       "      <td>659.0</td>\n",
       "      <td>7965.0</td>\n",
       "      <td>8456.0</td>\n",
       "      <td>1434.0</td>\n",
       "    </tr>\n",
       "    <tr>\n",
       "      <th>Negative</th>\n",
       "      <td>0.0</td>\n",
       "      <td>4628.0</td>\n",
       "      <td>5385.0</td>\n",
       "      <td>5508.0</td>\n",
       "      <td>0.0</td>\n",
       "    </tr>\n",
       "    <tr>\n",
       "      <th>Positive</th>\n",
       "      <td>4196.5</td>\n",
       "      <td>37.0</td>\n",
       "      <td>265.0</td>\n",
       "      <td>286.0</td>\n",
       "      <td>37.0</td>\n",
       "    </tr>\n",
       "    <tr>\n",
       "      <th>Year</th>\n",
       "      <td>2020.0</td>\n",
       "      <td>2020.0</td>\n",
       "      <td>2020.0</td>\n",
       "      <td>2020.0</td>\n",
       "      <td>2020.0</td>\n",
       "    </tr>\n",
       "    <tr>\n",
       "      <th>Month</th>\n",
       "      <td>4.0</td>\n",
       "      <td>4.0</td>\n",
       "      <td>4.0</td>\n",
       "      <td>4.0</td>\n",
       "      <td>4.0</td>\n",
       "    </tr>\n",
       "    <tr>\n",
       "      <th>Day</th>\n",
       "      <td>1.0</td>\n",
       "      <td>1.0</td>\n",
       "      <td>1.0</td>\n",
       "      <td>2.0</td>\n",
       "      <td>2.0</td>\n",
       "    </tr>\n",
       "    <tr>\n",
       "      <th>DayOfWeek</th>\n",
       "      <td>2.0</td>\n",
       "      <td>2.0</td>\n",
       "      <td>2.0</td>\n",
       "      <td>3.0</td>\n",
       "      <td>3.0</td>\n",
       "    </tr>\n",
       "    <tr>\n",
       "      <th>DayOfYear</th>\n",
       "      <td>92.0</td>\n",
       "      <td>92.0</td>\n",
       "      <td>92.0</td>\n",
       "      <td>93.0</td>\n",
       "      <td>93.0</td>\n",
       "    </tr>\n",
       "  </tbody>\n",
       "</table>\n",
       "</div>"
      ],
      "text/plain": [
       "                   0       1       2       3       4\n",
       "State            9.0    36.0    17.0    17.0    28.0\n",
       "TotalSamples  2621.0   659.0  7965.0  8456.0  1434.0\n",
       "Negative         0.0  4628.0  5385.0  5508.0     0.0\n",
       "Positive      4196.5    37.0   265.0   286.0    37.0\n",
       "Year          2020.0  2020.0  2020.0  2020.0  2020.0\n",
       "Month            4.0     4.0     4.0     4.0     4.0\n",
       "Day              1.0     1.0     1.0     2.0     2.0\n",
       "DayOfWeek        2.0     2.0     2.0     3.0     3.0\n",
       "DayOfYear       92.0    92.0    92.0    93.0    93.0"
      ]
     },
     "execution_count": 47,
     "metadata": {},
     "output_type": "execute_result"
    }
   ],
   "source": [
    "df_tmp.head().T"
   ]
  },
  {
   "cell_type": "code",
   "execution_count": 48,
   "id": "separate-subscription",
   "metadata": {
    "scrolled": true
   },
   "outputs": [
    {
     "data": {
      "text/html": [
       "<div>\n",
       "<style scoped>\n",
       "    .dataframe tbody tr th:only-of-type {\n",
       "        vertical-align: middle;\n",
       "    }\n",
       "\n",
       "    .dataframe tbody tr th {\n",
       "        vertical-align: top;\n",
       "    }\n",
       "\n",
       "    .dataframe thead th {\n",
       "        text-align: right;\n",
       "    }\n",
       "</style>\n",
       "<table border=\"1\" class=\"dataframe\">\n",
       "  <thead>\n",
       "    <tr style=\"text-align: right;\">\n",
       "      <th></th>\n",
       "      <th>State</th>\n",
       "      <th>TotalSamples</th>\n",
       "      <th>Negative</th>\n",
       "      <th>Positive</th>\n",
       "      <th>Year</th>\n",
       "      <th>Month</th>\n",
       "      <th>Day</th>\n",
       "      <th>DayOfWeek</th>\n",
       "      <th>DayOfYear</th>\n",
       "    </tr>\n",
       "  </thead>\n",
       "  <tbody>\n",
       "    <tr>\n",
       "      <th>0</th>\n",
       "      <td>9</td>\n",
       "      <td>2621</td>\n",
       "      <td>0</td>\n",
       "      <td>4196.5</td>\n",
       "      <td>2020</td>\n",
       "      <td>4</td>\n",
       "      <td>1</td>\n",
       "      <td>2</td>\n",
       "      <td>92</td>\n",
       "    </tr>\n",
       "    <tr>\n",
       "      <th>1</th>\n",
       "      <td>36</td>\n",
       "      <td>659</td>\n",
       "      <td>4628</td>\n",
       "      <td>37.0</td>\n",
       "      <td>2020</td>\n",
       "      <td>4</td>\n",
       "      <td>1</td>\n",
       "      <td>2</td>\n",
       "      <td>92</td>\n",
       "    </tr>\n",
       "    <tr>\n",
       "      <th>2</th>\n",
       "      <td>17</td>\n",
       "      <td>7965</td>\n",
       "      <td>5385</td>\n",
       "      <td>265.0</td>\n",
       "      <td>2020</td>\n",
       "      <td>4</td>\n",
       "      <td>1</td>\n",
       "      <td>2</td>\n",
       "      <td>92</td>\n",
       "    </tr>\n",
       "    <tr>\n",
       "      <th>3</th>\n",
       "      <td>17</td>\n",
       "      <td>8456</td>\n",
       "      <td>5508</td>\n",
       "      <td>286.0</td>\n",
       "      <td>2020</td>\n",
       "      <td>4</td>\n",
       "      <td>2</td>\n",
       "      <td>3</td>\n",
       "      <td>93</td>\n",
       "    </tr>\n",
       "    <tr>\n",
       "      <th>4</th>\n",
       "      <td>28</td>\n",
       "      <td>1434</td>\n",
       "      <td>0</td>\n",
       "      <td>37.0</td>\n",
       "      <td>2020</td>\n",
       "      <td>4</td>\n",
       "      <td>2</td>\n",
       "      <td>3</td>\n",
       "      <td>93</td>\n",
       "    </tr>\n",
       "    <tr>\n",
       "      <th>...</th>\n",
       "      <td>...</td>\n",
       "      <td>...</td>\n",
       "      <td>...</td>\n",
       "      <td>...</td>\n",
       "      <td>...</td>\n",
       "      <td>...</td>\n",
       "      <td>...</td>\n",
       "      <td>...</td>\n",
       "      <td>...</td>\n",
       "    </tr>\n",
       "    <tr>\n",
       "      <th>95</th>\n",
       "      <td>9</td>\n",
       "      <td>11061</td>\n",
       "      <td>6007</td>\n",
       "      <td>903.0</td>\n",
       "      <td>2020</td>\n",
       "      <td>4</td>\n",
       "      <td>10</td>\n",
       "      <td>4</td>\n",
       "      <td>101</td>\n",
       "    </tr>\n",
       "    <tr>\n",
       "      <th>96</th>\n",
       "      <td>26</td>\n",
       "      <td>3551</td>\n",
       "      <td>2896</td>\n",
       "      <td>51.0</td>\n",
       "      <td>2020</td>\n",
       "      <td>4</td>\n",
       "      <td>11</td>\n",
       "      <td>5</td>\n",
       "      <td>102</td>\n",
       "    </tr>\n",
       "    <tr>\n",
       "      <th>97</th>\n",
       "      <td>21</td>\n",
       "      <td>31841</td>\n",
       "      <td>2491</td>\n",
       "      <td>1761.0</td>\n",
       "      <td>2020</td>\n",
       "      <td>4</td>\n",
       "      <td>11</td>\n",
       "      <td>5</td>\n",
       "      <td>102</td>\n",
       "    </tr>\n",
       "    <tr>\n",
       "      <th>98</th>\n",
       "      <td>9</td>\n",
       "      <td>11709</td>\n",
       "      <td>51</td>\n",
       "      <td>1069.0</td>\n",
       "      <td>2020</td>\n",
       "      <td>4</td>\n",
       "      <td>11</td>\n",
       "      <td>5</td>\n",
       "      <td>102</td>\n",
       "    </tr>\n",
       "    <tr>\n",
       "      <th>99</th>\n",
       "      <td>4</td>\n",
       "      <td>3011</td>\n",
       "      <td>2312</td>\n",
       "      <td>29.0</td>\n",
       "      <td>2020</td>\n",
       "      <td>4</td>\n",
       "      <td>11</td>\n",
       "      <td>5</td>\n",
       "      <td>102</td>\n",
       "    </tr>\n",
       "  </tbody>\n",
       "</table>\n",
       "<p>100 rows × 9 columns</p>\n",
       "</div>"
      ],
      "text/plain": [
       "    State  TotalSamples  Negative  Positive  Year  Month  Day  DayOfWeek  \\\n",
       "0       9          2621         0    4196.5  2020      4    1          2   \n",
       "1      36           659      4628      37.0  2020      4    1          2   \n",
       "2      17          7965      5385     265.0  2020      4    1          2   \n",
       "3      17          8456      5508     286.0  2020      4    2          3   \n",
       "4      28          1434         0      37.0  2020      4    2          3   \n",
       "..    ...           ...       ...       ...   ...    ...  ...        ...   \n",
       "95      9         11061      6007     903.0  2020      4   10          4   \n",
       "96     26          3551      2896      51.0  2020      4   11          5   \n",
       "97     21         31841      2491    1761.0  2020      4   11          5   \n",
       "98      9         11709        51    1069.0  2020      4   11          5   \n",
       "99      4          3011      2312      29.0  2020      4   11          5   \n",
       "\n",
       "    DayOfYear  \n",
       "0          92  \n",
       "1          92  \n",
       "2          92  \n",
       "3          93  \n",
       "4          93  \n",
       "..        ...  \n",
       "95        101  \n",
       "96        102  \n",
       "97        102  \n",
       "98        102  \n",
       "99        102  \n",
       "\n",
       "[100 rows x 9 columns]"
      ]
     },
     "execution_count": 48,
     "metadata": {},
     "output_type": "execute_result"
    }
   ],
   "source": [
    "df_tmp.head(100)"
   ]
  },
  {
   "cell_type": "code",
   "execution_count": 49,
   "id": "auburn-hepatitis",
   "metadata": {},
   "outputs": [
    {
     "data": {
      "text/html": [
       "<div>\n",
       "<style scoped>\n",
       "    .dataframe tbody tr th:only-of-type {\n",
       "        vertical-align: middle;\n",
       "    }\n",
       "\n",
       "    .dataframe tbody tr th {\n",
       "        vertical-align: top;\n",
       "    }\n",
       "\n",
       "    .dataframe thead th {\n",
       "        text-align: right;\n",
       "    }\n",
       "</style>\n",
       "<table border=\"1\" class=\"dataframe\">\n",
       "  <thead>\n",
       "    <tr style=\"text-align: right;\">\n",
       "      <th></th>\n",
       "      <th>State</th>\n",
       "      <th>TotalSamples</th>\n",
       "      <th>Negative</th>\n",
       "      <th>Positive</th>\n",
       "      <th>Year</th>\n",
       "      <th>Month</th>\n",
       "      <th>Day</th>\n",
       "      <th>DayOfWeek</th>\n",
       "      <th>DayOfYear</th>\n",
       "    </tr>\n",
       "  </thead>\n",
       "  <tbody>\n",
       "    <tr>\n",
       "      <th>0</th>\n",
       "      <td>9</td>\n",
       "      <td>2621</td>\n",
       "      <td>0</td>\n",
       "      <td>4196.5</td>\n",
       "      <td>2020</td>\n",
       "      <td>4</td>\n",
       "      <td>1</td>\n",
       "      <td>2</td>\n",
       "      <td>92</td>\n",
       "    </tr>\n",
       "    <tr>\n",
       "      <th>1</th>\n",
       "      <td>36</td>\n",
       "      <td>659</td>\n",
       "      <td>4628</td>\n",
       "      <td>37.0</td>\n",
       "      <td>2020</td>\n",
       "      <td>4</td>\n",
       "      <td>1</td>\n",
       "      <td>2</td>\n",
       "      <td>92</td>\n",
       "    </tr>\n",
       "    <tr>\n",
       "      <th>2</th>\n",
       "      <td>17</td>\n",
       "      <td>7965</td>\n",
       "      <td>5385</td>\n",
       "      <td>265.0</td>\n",
       "      <td>2020</td>\n",
       "      <td>4</td>\n",
       "      <td>1</td>\n",
       "      <td>2</td>\n",
       "      <td>92</td>\n",
       "    </tr>\n",
       "    <tr>\n",
       "      <th>3</th>\n",
       "      <td>17</td>\n",
       "      <td>8456</td>\n",
       "      <td>5508</td>\n",
       "      <td>286.0</td>\n",
       "      <td>2020</td>\n",
       "      <td>4</td>\n",
       "      <td>2</td>\n",
       "      <td>3</td>\n",
       "      <td>93</td>\n",
       "    </tr>\n",
       "    <tr>\n",
       "      <th>4</th>\n",
       "      <td>28</td>\n",
       "      <td>1434</td>\n",
       "      <td>0</td>\n",
       "      <td>37.0</td>\n",
       "      <td>2020</td>\n",
       "      <td>4</td>\n",
       "      <td>2</td>\n",
       "      <td>3</td>\n",
       "      <td>93</td>\n",
       "    </tr>\n",
       "    <tr>\n",
       "      <th>...</th>\n",
       "      <td>...</td>\n",
       "      <td>...</td>\n",
       "      <td>...</td>\n",
       "      <td>...</td>\n",
       "      <td>...</td>\n",
       "      <td>...</td>\n",
       "      <td>...</td>\n",
       "      <td>...</td>\n",
       "      <td>...</td>\n",
       "    </tr>\n",
       "    <tr>\n",
       "      <th>13398</th>\n",
       "      <td>2</td>\n",
       "      <td>18140307</td>\n",
       "      <td>1091</td>\n",
       "      <td>4196.5</td>\n",
       "      <td>2021</td>\n",
       "      <td>5</td>\n",
       "      <td>18</td>\n",
       "      <td>1</td>\n",
       "      <td>138</td>\n",
       "    </tr>\n",
       "    <tr>\n",
       "      <th>13399</th>\n",
       "      <td>27</td>\n",
       "      <td>944147</td>\n",
       "      <td>5682</td>\n",
       "      <td>4196.5</td>\n",
       "      <td>2021</td>\n",
       "      <td>5</td>\n",
       "      <td>18</td>\n",
       "      <td>1</td>\n",
       "      <td>138</td>\n",
       "    </tr>\n",
       "    <tr>\n",
       "      <th>13400</th>\n",
       "      <td>17</td>\n",
       "      <td>18149395</td>\n",
       "      <td>0</td>\n",
       "      <td>4196.5</td>\n",
       "      <td>2021</td>\n",
       "      <td>5</td>\n",
       "      <td>18</td>\n",
       "      <td>1</td>\n",
       "      <td>138</td>\n",
       "    </tr>\n",
       "    <tr>\n",
       "      <th>13401</th>\n",
       "      <td>12</td>\n",
       "      <td>8409814</td>\n",
       "      <td>0</td>\n",
       "      <td>4196.5</td>\n",
       "      <td>2021</td>\n",
       "      <td>5</td>\n",
       "      <td>18</td>\n",
       "      <td>1</td>\n",
       "      <td>138</td>\n",
       "    </tr>\n",
       "    <tr>\n",
       "      <th>13402</th>\n",
       "      <td>36</td>\n",
       "      <td>11567999</td>\n",
       "      <td>0</td>\n",
       "      <td>4196.5</td>\n",
       "      <td>2021</td>\n",
       "      <td>5</td>\n",
       "      <td>18</td>\n",
       "      <td>1</td>\n",
       "      <td>138</td>\n",
       "    </tr>\n",
       "  </tbody>\n",
       "</table>\n",
       "<p>13403 rows × 9 columns</p>\n",
       "</div>"
      ],
      "text/plain": [
       "       State  TotalSamples  Negative  Positive  Year  Month  Day  DayOfWeek  \\\n",
       "0          9          2621         0    4196.5  2020      4    1          2   \n",
       "1         36           659      4628      37.0  2020      4    1          2   \n",
       "2         17          7965      5385     265.0  2020      4    1          2   \n",
       "3         17          8456      5508     286.0  2020      4    2          3   \n",
       "4         28          1434         0      37.0  2020      4    2          3   \n",
       "...      ...           ...       ...       ...   ...    ...  ...        ...   \n",
       "13398      2      18140307      1091    4196.5  2021      5   18          1   \n",
       "13399     27        944147      5682    4196.5  2021      5   18          1   \n",
       "13400     17      18149395         0    4196.5  2021      5   18          1   \n",
       "13401     12       8409814         0    4196.5  2021      5   18          1   \n",
       "13402     36      11567999         0    4196.5  2021      5   18          1   \n",
       "\n",
       "       DayOfYear  \n",
       "0             92  \n",
       "1             92  \n",
       "2             92  \n",
       "3             93  \n",
       "4             93  \n",
       "...          ...  \n",
       "13398        138  \n",
       "13399        138  \n",
       "13400        138  \n",
       "13401        138  \n",
       "13402        138  \n",
       "\n",
       "[13403 rows x 9 columns]"
      ]
     },
     "execution_count": 49,
     "metadata": {},
     "output_type": "execute_result"
    }
   ],
   "source": [
    "df_tmp"
   ]
  },
  {
   "cell_type": "code",
   "execution_count": 50,
   "id": "residential-occasion",
   "metadata": {},
   "outputs": [
    {
     "data": {
      "text/plain": [
       "0           0\n",
       "1        4628\n",
       "2        5385\n",
       "3        5508\n",
       "4           0\n",
       "         ... \n",
       "13398    1091\n",
       "13399    5682\n",
       "13400       0\n",
       "13401       0\n",
       "13402       0\n",
       "Name: Negative, Length: 13403, dtype: int16"
      ]
     },
     "execution_count": 50,
     "metadata": {},
     "output_type": "execute_result"
    }
   ],
   "source": [
    "df_tmp.pop(\"Negative\")"
   ]
  },
  {
   "cell_type": "code",
   "execution_count": 51,
   "id": "divided-property",
   "metadata": {},
   "outputs": [
    {
     "data": {
      "text/plain": [
       "13403"
      ]
     },
     "execution_count": 51,
     "metadata": {},
     "output_type": "execute_result"
    }
   ],
   "source": [
    "len(df_tmp)"
   ]
  },
  {
   "cell_type": "code",
   "execution_count": 52,
   "id": "boring-chest",
   "metadata": {},
   "outputs": [
    {
     "data": {
      "text/html": [
       "<div>\n",
       "<style scoped>\n",
       "    .dataframe tbody tr th:only-of-type {\n",
       "        vertical-align: middle;\n",
       "    }\n",
       "\n",
       "    .dataframe tbody tr th {\n",
       "        vertical-align: top;\n",
       "    }\n",
       "\n",
       "    .dataframe thead th {\n",
       "        text-align: right;\n",
       "    }\n",
       "</style>\n",
       "<table border=\"1\" class=\"dataframe\">\n",
       "  <thead>\n",
       "    <tr style=\"text-align: right;\">\n",
       "      <th></th>\n",
       "      <th>State</th>\n",
       "      <th>TotalSamples</th>\n",
       "      <th>Positive</th>\n",
       "      <th>Year</th>\n",
       "      <th>Month</th>\n",
       "      <th>Day</th>\n",
       "      <th>DayOfWeek</th>\n",
       "      <th>DayOfYear</th>\n",
       "    </tr>\n",
       "  </thead>\n",
       "  <tbody>\n",
       "    <tr>\n",
       "      <th>0</th>\n",
       "      <td>9</td>\n",
       "      <td>2621</td>\n",
       "      <td>4196.5</td>\n",
       "      <td>2020</td>\n",
       "      <td>4</td>\n",
       "      <td>1</td>\n",
       "      <td>2</td>\n",
       "      <td>92</td>\n",
       "    </tr>\n",
       "    <tr>\n",
       "      <th>1</th>\n",
       "      <td>36</td>\n",
       "      <td>659</td>\n",
       "      <td>37.0</td>\n",
       "      <td>2020</td>\n",
       "      <td>4</td>\n",
       "      <td>1</td>\n",
       "      <td>2</td>\n",
       "      <td>92</td>\n",
       "    </tr>\n",
       "    <tr>\n",
       "      <th>2</th>\n",
       "      <td>17</td>\n",
       "      <td>7965</td>\n",
       "      <td>265.0</td>\n",
       "      <td>2020</td>\n",
       "      <td>4</td>\n",
       "      <td>1</td>\n",
       "      <td>2</td>\n",
       "      <td>92</td>\n",
       "    </tr>\n",
       "    <tr>\n",
       "      <th>3</th>\n",
       "      <td>17</td>\n",
       "      <td>8456</td>\n",
       "      <td>286.0</td>\n",
       "      <td>2020</td>\n",
       "      <td>4</td>\n",
       "      <td>2</td>\n",
       "      <td>3</td>\n",
       "      <td>93</td>\n",
       "    </tr>\n",
       "    <tr>\n",
       "      <th>4</th>\n",
       "      <td>28</td>\n",
       "      <td>1434</td>\n",
       "      <td>37.0</td>\n",
       "      <td>2020</td>\n",
       "      <td>4</td>\n",
       "      <td>2</td>\n",
       "      <td>3</td>\n",
       "      <td>93</td>\n",
       "    </tr>\n",
       "    <tr>\n",
       "      <th>...</th>\n",
       "      <td>...</td>\n",
       "      <td>...</td>\n",
       "      <td>...</td>\n",
       "      <td>...</td>\n",
       "      <td>...</td>\n",
       "      <td>...</td>\n",
       "      <td>...</td>\n",
       "      <td>...</td>\n",
       "    </tr>\n",
       "    <tr>\n",
       "      <th>13398</th>\n",
       "      <td>2</td>\n",
       "      <td>18140307</td>\n",
       "      <td>4196.5</td>\n",
       "      <td>2021</td>\n",
       "      <td>5</td>\n",
       "      <td>18</td>\n",
       "      <td>1</td>\n",
       "      <td>138</td>\n",
       "    </tr>\n",
       "    <tr>\n",
       "      <th>13399</th>\n",
       "      <td>27</td>\n",
       "      <td>944147</td>\n",
       "      <td>4196.5</td>\n",
       "      <td>2021</td>\n",
       "      <td>5</td>\n",
       "      <td>18</td>\n",
       "      <td>1</td>\n",
       "      <td>138</td>\n",
       "    </tr>\n",
       "    <tr>\n",
       "      <th>13400</th>\n",
       "      <td>17</td>\n",
       "      <td>18149395</td>\n",
       "      <td>4196.5</td>\n",
       "      <td>2021</td>\n",
       "      <td>5</td>\n",
       "      <td>18</td>\n",
       "      <td>1</td>\n",
       "      <td>138</td>\n",
       "    </tr>\n",
       "    <tr>\n",
       "      <th>13401</th>\n",
       "      <td>12</td>\n",
       "      <td>8409814</td>\n",
       "      <td>4196.5</td>\n",
       "      <td>2021</td>\n",
       "      <td>5</td>\n",
       "      <td>18</td>\n",
       "      <td>1</td>\n",
       "      <td>138</td>\n",
       "    </tr>\n",
       "    <tr>\n",
       "      <th>13402</th>\n",
       "      <td>36</td>\n",
       "      <td>11567999</td>\n",
       "      <td>4196.5</td>\n",
       "      <td>2021</td>\n",
       "      <td>5</td>\n",
       "      <td>18</td>\n",
       "      <td>1</td>\n",
       "      <td>138</td>\n",
       "    </tr>\n",
       "  </tbody>\n",
       "</table>\n",
       "<p>13403 rows × 8 columns</p>\n",
       "</div>"
      ],
      "text/plain": [
       "       State  TotalSamples  Positive  Year  Month  Day  DayOfWeek  DayOfYear\n",
       "0          9          2621    4196.5  2020      4    1          2         92\n",
       "1         36           659      37.0  2020      4    1          2         92\n",
       "2         17          7965     265.0  2020      4    1          2         92\n",
       "3         17          8456     286.0  2020      4    2          3         93\n",
       "4         28          1434      37.0  2020      4    2          3         93\n",
       "...      ...           ...       ...   ...    ...  ...        ...        ...\n",
       "13398      2      18140307    4196.5  2021      5   18          1        138\n",
       "13399     27        944147    4196.5  2021      5   18          1        138\n",
       "13400     17      18149395    4196.5  2021      5   18          1        138\n",
       "13401     12       8409814    4196.5  2021      5   18          1        138\n",
       "13402     36      11567999    4196.5  2021      5   18          1        138\n",
       "\n",
       "[13403 rows x 8 columns]"
      ]
     },
     "execution_count": 52,
     "metadata": {},
     "output_type": "execute_result"
    }
   ],
   "source": [
    "df_tmp"
   ]
  },
  {
   "cell_type": "code",
   "execution_count": 53,
   "id": "explicit-fluid",
   "metadata": {},
   "outputs": [
    {
     "data": {
      "text/plain": [
       "13403"
      ]
     },
     "execution_count": 53,
     "metadata": {},
     "output_type": "execute_result"
    }
   ],
   "source": [
    "len(df_tmp)"
   ]
  },
  {
   "cell_type": "code",
   "execution_count": 67,
   "id": "exempt-liabilities",
   "metadata": {},
   "outputs": [],
   "source": [
    "df_tmp.drop(df_tmp[df_tmp['Positive'] == df_tmp[\"Positive\"].median()].index, inplace = True)"
   ]
  },
  {
   "cell_type": "code",
   "execution_count": 68,
   "id": "broad-context",
   "metadata": {},
   "outputs": [
    {
     "data": {
      "text/plain": [
       "5444"
      ]
     },
     "execution_count": 68,
     "metadata": {},
     "output_type": "execute_result"
    }
   ],
   "source": [
    "len(df_tmp)"
   ]
  },
  {
   "cell_type": "code",
   "execution_count": 99,
   "id": "willing-colon",
   "metadata": {},
   "outputs": [
    {
     "data": {
      "text/plain": [
       "State                  0\n",
       "TotalSamples           0\n",
       "Positive               0\n",
       "Year                   0\n",
       "Month                  0\n",
       "Day                    0\n",
       "DayOfWeek              0\n",
       "DayOfYear              0\n",
       "Positive_is_missing    0\n",
       "State_is_missing       0\n",
       "dtype: int64"
      ]
     },
     "execution_count": 99,
     "metadata": {},
     "output_type": "execute_result"
    }
   ],
   "source": [
    "df_tmp.isna().sum()"
   ]
  },
  {
   "cell_type": "markdown",
   "id": "unavailable-apache",
   "metadata": {},
   "source": [
    "Now that all of our data is numeric as well as our datafram has no missing values,we can build a ML model"
   ]
  },
  {
   "cell_type": "code",
   "execution_count": 69,
   "id": "agricultural-allah",
   "metadata": {},
   "outputs": [
    {
     "name": "stdout",
     "output_type": "stream",
     "text": [
      "Wall time: 437 ms\n"
     ]
    },
    {
     "data": {
      "text/plain": [
       "RandomForestRegressor(n_jobs=-1, random_state=42)"
      ]
     },
     "execution_count": 69,
     "metadata": {},
     "output_type": "execute_result"
    }
   ],
   "source": [
    "%%time\n",
    "# Instantiate \n",
    "from sklearn.ensemble import RandomForestRegressor\n",
    "model = RandomForestRegressor(n_jobs=-1,random_state=42)\n",
    "model.fit(df_tmp.drop(\"Positive\",axis=1),df_tmp[\"Positive\"])\n",
    "\n"
   ]
  },
  {
   "cell_type": "code",
   "execution_count": 70,
   "id": "ideal-gasoline",
   "metadata": {},
   "outputs": [
    {
     "data": {
      "text/plain": [
       "0.9997894283854972"
      ]
     },
     "execution_count": 70,
     "metadata": {},
     "output_type": "execute_result"
    }
   ],
   "source": [
    "model.score(df_tmp.drop(\"Positive\",axis=1),df_tmp[\"Positive\"])"
   ]
  },
  {
   "cell_type": "markdown",
   "id": "swedish-heavy",
   "metadata": {},
   "source": [
    "## Splitting data into train/test set"
   ]
  },
  {
   "cell_type": "code",
   "execution_count": 71,
   "id": "therapeutic-homework",
   "metadata": {},
   "outputs": [
    {
     "data": {
      "text/plain": [
       "1        2020\n",
       "2        2020\n",
       "3        2020\n",
       "4        2020\n",
       "5        2020\n",
       "         ... \n",
       "13339    2021\n",
       "13340    2021\n",
       "13366    2021\n",
       "13385    2021\n",
       "13388    2021\n",
       "Name: Year, Length: 5444, dtype: int64"
      ]
     },
     "execution_count": 71,
     "metadata": {},
     "output_type": "execute_result"
    }
   ],
   "source": [
    "df_tmp.Year"
   ]
  },
  {
   "cell_type": "code",
   "execution_count": 72,
   "id": "pending-chosen",
   "metadata": {},
   "outputs": [],
   "source": [
    "# Split data into X & y\n",
    "X=df_tmp.drop(\"Positive\",axis=1)\n",
    "y=df_tmp[\"Positive\"]\n",
    "X_train, X_test, y_train, y_test = train_test_split(X, y, test_size=0.2)"
   ]
  },
  {
   "cell_type": "code",
   "execution_count": 73,
   "id": "golden-moderator",
   "metadata": {},
   "outputs": [
    {
     "data": {
      "text/plain": [
       "(4355, 1089)"
      ]
     },
     "execution_count": 73,
     "metadata": {},
     "output_type": "execute_result"
    }
   ],
   "source": [
    "len(X_train),len(X_test)"
   ]
  },
  {
   "cell_type": "code",
   "execution_count": 74,
   "id": "reflected-message",
   "metadata": {},
   "outputs": [
    {
     "data": {
      "text/plain": [
       "(4355, 1089)"
      ]
     },
     "execution_count": 74,
     "metadata": {},
     "output_type": "execute_result"
    }
   ],
   "source": [
    "len(X_train),len(X_test)"
   ]
  },
  {
   "cell_type": "markdown",
   "id": "absolute-product",
   "metadata": {},
   "source": [
    "# Building an evaluation function"
   ]
  },
  {
   "cell_type": "code",
   "execution_count": 75,
   "id": "controversial-roommate",
   "metadata": {},
   "outputs": [],
   "source": [
    "# RMSLE \n",
    "from sklearn.metrics import mean_squared_log_error,mean_absolute_error,r2_score\n",
    "def rmsle(y_test, y_preds):\n",
    "    \"\"\"\n",
    "    Calculates root mean squared log error between predictions and true label\n",
    "    \"\"\"\n",
    "    return np.sqrt(mean_squared_log_error(y_test,y_preds))\n",
    "def show_scores(model):\n",
    "    train_preds=model.predict(X_train)\n",
    "    test_preds=model.predict(X_test)\n",
    "    scores={\"Training MAE\": mean_absolute_error(y_train ,train_preds),\n",
    "            \"Test MAE\":mean_absolute_error(y_test,test_preds),\n",
    "            \"Training MSLE\": rmsle(y_train, train_preds),\n",
    "            \"Testing MSLE\":rmsle(y_test, test_preds),\n",
    "            \"Training R^2\": r2_score(y_train, train_preds),\n",
    "            \"Test R^2\":r2_score(y_test, test_preds)\n",
    "    }\n",
    "    return scores\n"
   ]
  },
  {
   "cell_type": "code",
   "execution_count": 76,
   "id": "further-compensation",
   "metadata": {},
   "outputs": [],
   "source": [
    "model = RandomForestRegressor(n_jobs=-1,random_state=42)"
   ]
  },
  {
   "cell_type": "code",
   "execution_count": 77,
   "id": "herbal-tamil",
   "metadata": {},
   "outputs": [
    {
     "data": {
      "text/plain": [
       "RandomForestRegressor(n_jobs=-1, random_state=42)"
      ]
     },
     "execution_count": 77,
     "metadata": {},
     "output_type": "execute_result"
    }
   ],
   "source": [
    "model.fit(X_train,y_train)"
   ]
  },
  {
   "cell_type": "code",
   "execution_count": 78,
   "id": "auburn-arbitration",
   "metadata": {},
   "outputs": [
    {
     "data": {
      "text/plain": [
       "{'Training MAE': 811.083928817451,\n",
       " 'Test MAE': 1807.800165289256,\n",
       " 'Training MSLE': 0.20544213759614835,\n",
       " 'Testing MSLE': 0.3804820922567538,\n",
       " 'Training R^2': 0.9996312223440971,\n",
       " 'Test R^2': 0.9986144638869788}"
      ]
     },
     "execution_count": 78,
     "metadata": {},
     "output_type": "execute_result"
    }
   ],
   "source": [
    "show_scores(model)"
   ]
  },
  {
   "cell_type": "code",
   "execution_count": 79,
   "id": "clinical-degree",
   "metadata": {},
   "outputs": [
    {
     "name": "stdout",
     "output_type": "stream",
     "text": [
      "Fitting 5 folds for each of 40 candidates, totalling 200 fits\n"
     ]
    },
    {
     "data": {
      "text/plain": [
       "RandomizedSearchCV(cv=5,\n",
       "                   estimator=RandomForestRegressor(n_jobs=-1, random_state=42),\n",
       "                   n_iter=40,\n",
       "                   param_distributions={'max_depth': [None, 3, 5, 10],\n",
       "                                        'max_features': [0.5, 1, 'sqrt',\n",
       "                                                         'auto'],\n",
       "                                        'min_samples_leaf': array([ 1,  3,  5,  7,  9, 11, 13, 15, 17, 19]),\n",
       "                                        'min_samples_split': array([ 2,  4,  6,  8, 10, 12, 14, 16, 18]),\n",
       "                                        'n_estimators': array([10, 20, 30, 40, 50, 60, 70, 80, 90])},\n",
       "                   verbose=True)"
      ]
     },
     "execution_count": 79,
     "metadata": {},
     "output_type": "execute_result"
    }
   ],
   "source": [
    "from sklearn.model_selection import RandomizedSearchCV\n",
    "rf_grid={\"n_estimators\":np.arange(10,100,10),\n",
    "          \"max_depth\":[None,3,5,10],\n",
    "          \"min_samples_split\":np.arange(2,20,2),\n",
    "          \"min_samples_leaf\":np.arange(1,20,2),\n",
    "          \"max_features\":[0.5,1,\"sqrt\",\"auto\"] }\n",
    "rs_model=RandomizedSearchCV(RandomForestRegressor(n_jobs=-1,\n",
    "                                                random_state=42),\n",
    "                           param_distributions=rf_grid,\n",
    "                           n_iter=40,\n",
    "                           cv=5,\n",
    "                           verbose=True\n",
    "                           )\n",
    "\n",
    "rs_model.fit(X_train,y_train)\n",
    "    \n"
   ]
  },
  {
   "cell_type": "code",
   "execution_count": 80,
   "id": "logical-sector",
   "metadata": {},
   "outputs": [
    {
     "data": {
      "text/plain": [
       "{'n_estimators': 20,\n",
       " 'min_samples_split': 8,\n",
       " 'min_samples_leaf': 1,\n",
       " 'max_features': 0.5,\n",
       " 'max_depth': 10}"
      ]
     },
     "execution_count": 80,
     "metadata": {},
     "output_type": "execute_result"
    }
   ],
   "source": [
    "# Find the best model\n",
    "rs_model.best_params_"
   ]
  },
  {
   "cell_type": "code",
   "execution_count": 81,
   "id": "extreme-alarm",
   "metadata": {},
   "outputs": [
    {
     "data": {
      "text/plain": [
       "{'Training MAE': 3794.5322103831004,\n",
       " 'Test MAE': 5365.578052281298,\n",
       " 'Training MSLE': 1.292574368995822,\n",
       " 'Testing MSLE': 1.4294464622413383,\n",
       " 'Training R^2': 0.9964084356335874,\n",
       " 'Test R^2': 0.993426849514488}"
      ]
     },
     "execution_count": 81,
     "metadata": {},
     "output_type": "execute_result"
    }
   ],
   "source": [
    "show_scores(rs_model)"
   ]
  },
  {
   "cell_type": "code",
   "execution_count": 82,
   "id": "superior-hollywood",
   "metadata": {},
   "outputs": [
    {
     "data": {
      "text/plain": [
       "{'Training MAE': 811.083928817451,\n",
       " 'Test MAE': 1807.800165289256,\n",
       " 'Training MSLE': 0.20544213759614835,\n",
       " 'Testing MSLE': 0.3804820922567538,\n",
       " 'Training R^2': 0.9996312223440971,\n",
       " 'Test R^2': 0.9986144638869788}"
      ]
     },
     "execution_count": 82,
     "metadata": {},
     "output_type": "execute_result"
    }
   ],
   "source": [
    "ideal_model=RandomForestRegressor(n_jobs=-1,random_state=42,\n",
    "                               n_estimators=100,\n",
    "                               min_samples_leaf=1,\n",
    "                               min_samples_split=2,\n",
    "                               max_features='auto')\n",
    "ideal_model.fit(X_train,y_train)\n",
    "show_scores(ideal_model)\n",
    "                           \n"
   ]
  },
  {
   "cell_type": "code",
   "execution_count": 175,
   "id": "egyptian-shield",
   "metadata": {},
   "outputs": [],
   "source": [
    "df_tmp.to_csv(\"Categrical-codes.csv\")"
   ]
  },
  {
   "cell_type": "code",
   "execution_count": 177,
   "id": "above-evans",
   "metadata": {},
   "outputs": [
    {
     "data": {
      "text/plain": [
       "array([36, 17, 28, 10,  7,  6,  2,  4, 35, 31, 12, 26, 16, 34, 14,  5, 20,\n",
       "       25, 21, 24,  9, 29, 11,  3,  8, 13, 15, 33, 18, 22, 23,  1, 27, 32,\n",
       "       30], dtype=int8)"
      ]
     },
     "execution_count": 177,
     "metadata": {},
     "output_type": "execute_result"
    }
   ],
   "source": [
    "df_tmp.State.unique()"
   ]
  },
  {
   "cell_type": "code",
   "execution_count": 179,
   "id": "brilliant-category",
   "metadata": {},
   "outputs": [
    {
     "data": {
      "text/html": [
       "<div>\n",
       "<style scoped>\n",
       "    .dataframe tbody tr th:only-of-type {\n",
       "        vertical-align: middle;\n",
       "    }\n",
       "\n",
       "    .dataframe tbody tr th {\n",
       "        vertical-align: top;\n",
       "    }\n",
       "\n",
       "    .dataframe thead th {\n",
       "        text-align: right;\n",
       "    }\n",
       "</style>\n",
       "<table border=\"1\" class=\"dataframe\">\n",
       "  <thead>\n",
       "    <tr style=\"text-align: right;\">\n",
       "      <th></th>\n",
       "      <th>State</th>\n",
       "      <th>TotalSamples</th>\n",
       "      <th>Positive</th>\n",
       "      <th>Year</th>\n",
       "      <th>Month</th>\n",
       "      <th>Day</th>\n",
       "      <th>DayOfWeek</th>\n",
       "      <th>DayOfYear</th>\n",
       "    </tr>\n",
       "  </thead>\n",
       "  <tbody>\n",
       "    <tr>\n",
       "      <th>1</th>\n",
       "      <td>36</td>\n",
       "      <td>659</td>\n",
       "      <td>37.0</td>\n",
       "      <td>2020</td>\n",
       "      <td>4</td>\n",
       "      <td>1</td>\n",
       "      <td>2</td>\n",
       "      <td>92</td>\n",
       "    </tr>\n",
       "    <tr>\n",
       "      <th>2</th>\n",
       "      <td>17</td>\n",
       "      <td>7965</td>\n",
       "      <td>265.0</td>\n",
       "      <td>2020</td>\n",
       "      <td>4</td>\n",
       "      <td>1</td>\n",
       "      <td>2</td>\n",
       "      <td>92</td>\n",
       "    </tr>\n",
       "    <tr>\n",
       "      <th>3</th>\n",
       "      <td>17</td>\n",
       "      <td>8456</td>\n",
       "      <td>286.0</td>\n",
       "      <td>2020</td>\n",
       "      <td>4</td>\n",
       "      <td>2</td>\n",
       "      <td>3</td>\n",
       "      <td>93</td>\n",
       "    </tr>\n",
       "    <tr>\n",
       "      <th>4</th>\n",
       "      <td>28</td>\n",
       "      <td>1434</td>\n",
       "      <td>37.0</td>\n",
       "      <td>2020</td>\n",
       "      <td>4</td>\n",
       "      <td>2</td>\n",
       "      <td>3</td>\n",
       "      <td>93</td>\n",
       "    </tr>\n",
       "    <tr>\n",
       "      <th>5</th>\n",
       "      <td>10</td>\n",
       "      <td>220</td>\n",
       "      <td>5.0</td>\n",
       "      <td>2020</td>\n",
       "      <td>4</td>\n",
       "      <td>2</td>\n",
       "      <td>3</td>\n",
       "      <td>93</td>\n",
       "    </tr>\n",
       "    <tr>\n",
       "      <th>...</th>\n",
       "      <td>...</td>\n",
       "      <td>...</td>\n",
       "      <td>...</td>\n",
       "      <td>...</td>\n",
       "      <td>...</td>\n",
       "      <td>...</td>\n",
       "      <td>...</td>\n",
       "      <td>...</td>\n",
       "    </tr>\n",
       "    <tr>\n",
       "      <th>13339</th>\n",
       "      <td>1</td>\n",
       "      <td>380102</td>\n",
       "      <td>6638.0</td>\n",
       "      <td>2021</td>\n",
       "      <td>5</td>\n",
       "      <td>17</td>\n",
       "      <td>0</td>\n",
       "      <td>137</td>\n",
       "    </tr>\n",
       "    <tr>\n",
       "      <th>13340</th>\n",
       "      <td>15</td>\n",
       "      <td>7788630</td>\n",
       "      <td>318009.0</td>\n",
       "      <td>2021</td>\n",
       "      <td>5</td>\n",
       "      <td>17</td>\n",
       "      <td>0</td>\n",
       "      <td>137</td>\n",
       "    </tr>\n",
       "    <tr>\n",
       "      <th>13366</th>\n",
       "      <td>33</td>\n",
       "      <td>794518</td>\n",
       "      <td>41148.0</td>\n",
       "      <td>2021</td>\n",
       "      <td>5</td>\n",
       "      <td>17</td>\n",
       "      <td>0</td>\n",
       "      <td>137</td>\n",
       "    </tr>\n",
       "    <tr>\n",
       "      <th>13385</th>\n",
       "      <td>33</td>\n",
       "      <td>804307</td>\n",
       "      <td>41894.0</td>\n",
       "      <td>2021</td>\n",
       "      <td>5</td>\n",
       "      <td>18</td>\n",
       "      <td>1</td>\n",
       "      <td>138</td>\n",
       "    </tr>\n",
       "    <tr>\n",
       "      <th>13388</th>\n",
       "      <td>15</td>\n",
       "      <td>7845253</td>\n",
       "      <td>320934.0</td>\n",
       "      <td>2021</td>\n",
       "      <td>5</td>\n",
       "      <td>18</td>\n",
       "      <td>1</td>\n",
       "      <td>138</td>\n",
       "    </tr>\n",
       "  </tbody>\n",
       "</table>\n",
       "<p>5444 rows × 8 columns</p>\n",
       "</div>"
      ],
      "text/plain": [
       "       State  TotalSamples  Positive  Year  Month  Day  DayOfWeek  DayOfYear\n",
       "1         36           659      37.0  2020      4    1          2         92\n",
       "2         17          7965     265.0  2020      4    1          2         92\n",
       "3         17          8456     286.0  2020      4    2          3         93\n",
       "4         28          1434      37.0  2020      4    2          3         93\n",
       "5         10           220       5.0  2020      4    2          3         93\n",
       "...      ...           ...       ...   ...    ...  ...        ...        ...\n",
       "13339      1        380102    6638.0  2021      5   17          0        137\n",
       "13340     15       7788630  318009.0  2021      5   17          0        137\n",
       "13366     33        794518   41148.0  2021      5   17          0        137\n",
       "13385     33        804307   41894.0  2021      5   18          1        138\n",
       "13388     15       7845253  320934.0  2021      5   18          1        138\n",
       "\n",
       "[5444 rows x 8 columns]"
      ]
     },
     "execution_count": 179,
     "metadata": {},
     "output_type": "execute_result"
    }
   ],
   "source": [
    "df_tmp"
   ]
  },
  {
   "cell_type": "markdown",
   "id": "otherwise-adoption",
   "metadata": {},
   "source": [
    "# Make predictions on data"
   ]
  },
  {
   "cell_type": "code",
   "execution_count": 87,
   "id": "retired-humidity",
   "metadata": {},
   "outputs": [],
   "source": [
    "df_test=pd.read_csv(\"Test-data.csv\",\n",
    "                   low_memory=False,\n",
    "                   parse_dates=[\"Date\"])"
   ]
  },
  {
   "cell_type": "code",
   "execution_count": 98,
   "id": "departmental-landscape",
   "metadata": {},
   "outputs": [],
   "source": [
    "df_test=pd.read_csv(\"Test-data.csv\",\n",
    "                   low_memory=False,\n",
    "                   parse_dates=[\"Date\"])"
   ]
  },
  {
   "cell_type": "code",
   "execution_count": 99,
   "id": "emotional-smell",
   "metadata": {},
   "outputs": [
    {
     "data": {
      "text/html": [
       "<div>\n",
       "<style scoped>\n",
       "    .dataframe tbody tr th:only-of-type {\n",
       "        vertical-align: middle;\n",
       "    }\n",
       "\n",
       "    .dataframe tbody tr th {\n",
       "        vertical-align: top;\n",
       "    }\n",
       "\n",
       "    .dataframe thead th {\n",
       "        text-align: right;\n",
       "    }\n",
       "</style>\n",
       "<table border=\"1\" class=\"dataframe\">\n",
       "  <thead>\n",
       "    <tr style=\"text-align: right;\">\n",
       "      <th></th>\n",
       "      <th>Date</th>\n",
       "      <th>State</th>\n",
       "      <th>TotalSamples</th>\n",
       "      <th>Negative</th>\n",
       "      <th>Positive</th>\n",
       "    </tr>\n",
       "  </thead>\n",
       "  <tbody>\n",
       "    <tr>\n",
       "      <th>0</th>\n",
       "      <td>2020-08-01</td>\n",
       "      <td>Chhattisgarh</td>\n",
       "      <td>323692</td>\n",
       "      <td>NaN</td>\n",
       "      <td>9385</td>\n",
       "    </tr>\n",
       "    <tr>\n",
       "      <th>1</th>\n",
       "      <td>2020-08-02</td>\n",
       "      <td>Chhattisgarh</td>\n",
       "      <td>331268</td>\n",
       "      <td>NaN</td>\n",
       "      <td>9608</td>\n",
       "    </tr>\n",
       "    <tr>\n",
       "      <th>2</th>\n",
       "      <td>2020-08-03</td>\n",
       "      <td>Chhattisgarh</td>\n",
       "      <td>334709</td>\n",
       "      <td>NaN</td>\n",
       "      <td>9800</td>\n",
       "    </tr>\n",
       "    <tr>\n",
       "      <th>3</th>\n",
       "      <td>2020-08-04</td>\n",
       "      <td>Chhattisgarh</td>\n",
       "      <td>340043</td>\n",
       "      <td>NaN</td>\n",
       "      <td>10109</td>\n",
       "    </tr>\n",
       "    <tr>\n",
       "      <th>4</th>\n",
       "      <td>2020-08-05</td>\n",
       "      <td>Chhattisgarh</td>\n",
       "      <td>345250</td>\n",
       "      <td>NaN</td>\n",
       "      <td>10407</td>\n",
       "    </tr>\n",
       "  </tbody>\n",
       "</table>\n",
       "</div>"
      ],
      "text/plain": [
       "        Date         State  TotalSamples  Negative  Positive\n",
       "0 2020-08-01  Chhattisgarh        323692       NaN      9385\n",
       "1 2020-08-02  Chhattisgarh        331268       NaN      9608\n",
       "2 2020-08-03  Chhattisgarh        334709       NaN      9800\n",
       "3 2020-08-04  Chhattisgarh        340043       NaN     10109\n",
       "4 2020-08-05  Chhattisgarh        345250       NaN     10407"
      ]
     },
     "execution_count": 99,
     "metadata": {},
     "output_type": "execute_result"
    }
   ],
   "source": [
    "df_test.head()"
   ]
  },
  {
   "cell_type": "code",
   "execution_count": 100,
   "id": "recovered-marsh",
   "metadata": {},
   "outputs": [
    {
     "data": {
      "text/plain": [
       "Date             0\n",
       "State            0\n",
       "TotalSamples     0\n",
       "Negative        42\n",
       "Positive         0\n",
       "dtype: int64"
      ]
     },
     "execution_count": 100,
     "metadata": {},
     "output_type": "execute_result"
    }
   ],
   "source": [
    "df_test.isna().sum()"
   ]
  },
  {
   "cell_type": "code",
   "execution_count": 101,
   "id": "norman-chair",
   "metadata": {},
   "outputs": [
    {
     "data": {
      "text/plain": [
       "Index(['Date', 'State', 'TotalSamples', 'Negative', 'Positive'], dtype='object')"
      ]
     },
     "execution_count": 101,
     "metadata": {},
     "output_type": "execute_result"
    }
   ],
   "source": [
    "df_test.columns"
   ]
  },
  {
   "cell_type": "code",
   "execution_count": 102,
   "id": "decreased-welsh",
   "metadata": {},
   "outputs": [],
   "source": [
    "df_test.drop(\"Negative\",axis=1,inplace=True)"
   ]
  },
  {
   "cell_type": "markdown",
   "id": "foreign-ivory",
   "metadata": {},
   "source": [
    "## Preprocessing our data"
   ]
  },
  {
   "cell_type": "code",
   "execution_count": 103,
   "id": "waiting-anthropology",
   "metadata": {},
   "outputs": [],
   "source": [
    "def preprocess_data(df):\n",
    "    \"\"\"\n",
    "    Performs transformations on df and returns df.\n",
    "    \"\"\"\n",
    "    df[\"Year\"]=df.Date.dt.year\n",
    "    df[\"Month\"]=df.Date.dt.month\n",
    "    df[\"Day\"]=df.Date.dt.day\n",
    "    df[\"DayOfWeek\"]=df.Date.dt.dayofweek\n",
    "    df[\"DayOfYear\"]=df.Date.dt.dayofyear\n",
    "    df.drop(\"Date\",axis=1,inplace=True)\n",
    "    #Fill numeric rows with median (Here we have no rows)\n",
    "    \n",
    "    # Turn Categorical variables into numbers and fill missing \n",
    "    for label,content in df.items():\n",
    "        if not pd.api.types.is_numeric_dtype(content):\n",
    "            # Add a binary column to indicate whether sample had missing value\n",
    "            #df[label+\"_is_missing\"]=pd.isnull(content)\n",
    "            df[label] = pd.Categorical(content).codes+1\n",
    "        \n",
    "    return df"
   ]
  },
  {
   "cell_type": "code",
   "execution_count": 104,
   "id": "polar-individual",
   "metadata": {},
   "outputs": [
    {
     "data": {
      "text/plain": [
       "0      9385\n",
       "1      9608\n",
       "2      9800\n",
       "3     10109\n",
       "4     10407\n",
       "      ...  \n",
       "92    62964\n",
       "93    65258\n",
       "94    67692\n",
       "95    70188\n",
       "96    72777\n",
       "Name: Positive, Length: 97, dtype: int64"
      ]
     },
     "execution_count": 104,
     "metadata": {},
     "output_type": "execute_result"
    }
   ],
   "source": [
    "df_test=preprocess_data(df_test)\n",
    "df_test.head()\n",
    "df_test.pop(\"Positive\")"
   ]
  },
  {
   "cell_type": "code",
   "execution_count": 105,
   "id": "thrown-conditioning",
   "metadata": {},
   "outputs": [],
   "source": [
    "test_preds=ideal_model.predict(df_test)"
   ]
  },
  {
   "cell_type": "code",
   "execution_count": 107,
   "id": "welsh-orchestra",
   "metadata": {},
   "outputs": [
    {
     "data": {
      "text/html": [
       "<div>\n",
       "<style scoped>\n",
       "    .dataframe tbody tr th:only-of-type {\n",
       "        vertical-align: middle;\n",
       "    }\n",
       "\n",
       "    .dataframe tbody tr th {\n",
       "        vertical-align: top;\n",
       "    }\n",
       "\n",
       "    .dataframe thead th {\n",
       "        text-align: right;\n",
       "    }\n",
       "</style>\n",
       "<table border=\"1\" class=\"dataframe\">\n",
       "  <thead>\n",
       "    <tr style=\"text-align: right;\">\n",
       "      <th></th>\n",
       "      <th>State</th>\n",
       "      <th>TotalSamples</th>\n",
       "      <th>Year</th>\n",
       "      <th>Month</th>\n",
       "      <th>Day</th>\n",
       "      <th>DayOfWeek</th>\n",
       "      <th>DayOfYear</th>\n",
       "    </tr>\n",
       "  </thead>\n",
       "  <tbody>\n",
       "    <tr>\n",
       "      <th>3830</th>\n",
       "      <td>14</td>\n",
       "      <td>679415</td>\n",
       "      <td>2020</td>\n",
       "      <td>8</td>\n",
       "      <td>5</td>\n",
       "      <td>2</td>\n",
       "      <td>218</td>\n",
       "    </tr>\n",
       "    <tr>\n",
       "      <th>3229</th>\n",
       "      <td>8</td>\n",
       "      <td>38640</td>\n",
       "      <td>2020</td>\n",
       "      <td>7</td>\n",
       "      <td>19</td>\n",
       "      <td>6</td>\n",
       "      <td>201</td>\n",
       "    </tr>\n",
       "    <tr>\n",
       "      <th>1353</th>\n",
       "      <td>34</td>\n",
       "      <td>217867</td>\n",
       "      <td>2020</td>\n",
       "      <td>5</td>\n",
       "      <td>23</td>\n",
       "      <td>5</td>\n",
       "      <td>144</td>\n",
       "    </tr>\n",
       "    <tr>\n",
       "      <th>3051</th>\n",
       "      <td>14</td>\n",
       "      <td>459703</td>\n",
       "      <td>2020</td>\n",
       "      <td>7</td>\n",
       "      <td>13</td>\n",
       "      <td>0</td>\n",
       "      <td>195</td>\n",
       "    </tr>\n",
       "    <tr>\n",
       "      <th>5716</th>\n",
       "      <td>33</td>\n",
       "      <td>385690</td>\n",
       "      <td>2020</td>\n",
       "      <td>9</td>\n",
       "      <td>29</td>\n",
       "      <td>1</td>\n",
       "      <td>273</td>\n",
       "    </tr>\n",
       "  </tbody>\n",
       "</table>\n",
       "</div>"
      ],
      "text/plain": [
       "      State  TotalSamples  Year  Month  Day  DayOfWeek  DayOfYear\n",
       "3830     14        679415  2020      8    5          2        218\n",
       "3229      8         38640  2020      7   19          6        201\n",
       "1353     34        217867  2020      5   23          5        144\n",
       "3051     14        459703  2020      7   13          0        195\n",
       "5716     33        385690  2020      9   29          1        273"
      ]
     },
     "execution_count": 107,
     "metadata": {},
     "output_type": "execute_result"
    }
   ],
   "source": [
    "X_train.head()"
   ]
  },
  {
   "cell_type": "code",
   "execution_count": 108,
   "id": "bottom-parking",
   "metadata": {},
   "outputs": [
    {
     "data": {
      "text/plain": [
       "array([8.4430200e+03, 8.8283700e+03, 8.8032900e+03, 8.9353500e+03,\n",
       "       9.0027600e+03, 1.0073770e+04, 1.0178630e+04, 1.1199140e+04,\n",
       "       1.1353310e+04, 1.4830860e+04, 3.4670000e+01, 3.9170000e+01,\n",
       "       4.4690000e+01, 3.3270000e+01, 3.3070000e+01, 3.5830000e+01,\n",
       "       4.2770000e+01, 4.8660000e+01, 4.2270000e+01, 3.3180000e+03,\n",
       "       3.2072800e+03, 3.3459600e+03, 3.4096200e+03, 3.4815200e+03,\n",
       "       3.6937200e+03, 3.7307900e+03, 3.8110200e+03, 3.9711200e+03,\n",
       "       5.3654480e+04, 5.2709100e+04, 5.1255400e+04, 5.2997650e+04,\n",
       "       5.3200490e+04, 5.4367560e+04, 5.9582900e+04, 6.2829930e+04,\n",
       "       2.4721400e+03, 3.3908800e+03, 3.9265300e+03, 4.0802200e+03,\n",
       "       4.4091700e+03, 4.3157800e+03, 4.6046500e+03, 4.6666300e+03,\n",
       "       5.1043200e+03, 8.7900000e+01, 9.1370000e+01, 9.1430000e+01,\n",
       "       9.0990000e+01, 9.1260000e+01, 6.8170000e+01, 6.3940000e+01,\n",
       "       6.5650000e+01, 7.3673000e+02, 7.2591000e+02, 8.2123000e+02,\n",
       "       1.0154400e+03, 1.0564700e+03, 1.3178800e+03, 1.5469700e+03,\n",
       "       1.4529900e+03, 8.2021000e+02, 9.8473000e+02, 8.8604000e+02,\n",
       "       1.0846600e+03, 1.3081800e+03, 1.5930600e+03, 1.8457800e+03,\n",
       "       1.8351700e+03, 1.1581000e+03, 9.8963000e+02, 1.1991623e+05,\n",
       "       1.1993046e+05, 1.0885169e+05, 1.1670884e+05, 1.2470682e+05,\n",
       "       1.2832842e+05, 1.1847541e+05, 1.2391414e+05, 1.1074186e+05,\n",
       "       1.1375972e+05, 1.1781090e+05, 9.0328340e+04, 8.8276290e+04,\n",
       "       9.0692060e+04, 1.0034794e+05, 9.4846350e+04, 9.0032520e+04,\n",
       "       8.7779770e+04, 8.8254360e+04, 9.1602370e+04, 1.0341345e+05,\n",
       "       1.0442784e+05, 1.1389447e+05, 1.1263342e+05, 1.1308506e+05,\n",
       "       1.0157325e+05])"
      ]
     },
     "execution_count": 108,
     "metadata": {},
     "output_type": "execute_result"
    }
   ],
   "source": [
    "# Make predictions on test data\n",
    "test_preds=ideal_model.predict(df_test)\n",
    "test_preds"
   ]
  },
  {
   "cell_type": "code",
   "execution_count": 109,
   "id": "pharmaceutical-montgomery",
   "metadata": {
    "scrolled": true
   },
   "outputs": [
    {
     "data": {
      "text/html": [
       "<div>\n",
       "<style scoped>\n",
       "    .dataframe tbody tr th:only-of-type {\n",
       "        vertical-align: middle;\n",
       "    }\n",
       "\n",
       "    .dataframe tbody tr th {\n",
       "        vertical-align: top;\n",
       "    }\n",
       "\n",
       "    .dataframe thead th {\n",
       "        text-align: right;\n",
       "    }\n",
       "</style>\n",
       "<table border=\"1\" class=\"dataframe\">\n",
       "  <thead>\n",
       "    <tr style=\"text-align: right;\">\n",
       "      <th></th>\n",
       "      <th>TotalSamples</th>\n",
       "      <th>Positive</th>\n",
       "    </tr>\n",
       "  </thead>\n",
       "  <tbody>\n",
       "    <tr>\n",
       "      <th>0</th>\n",
       "      <td>323692</td>\n",
       "      <td>8443.02</td>\n",
       "    </tr>\n",
       "    <tr>\n",
       "      <th>1</th>\n",
       "      <td>331268</td>\n",
       "      <td>8828.37</td>\n",
       "    </tr>\n",
       "    <tr>\n",
       "      <th>2</th>\n",
       "      <td>334709</td>\n",
       "      <td>8803.29</td>\n",
       "    </tr>\n",
       "    <tr>\n",
       "      <th>3</th>\n",
       "      <td>340043</td>\n",
       "      <td>8935.35</td>\n",
       "    </tr>\n",
       "    <tr>\n",
       "      <th>4</th>\n",
       "      <td>345250</td>\n",
       "      <td>9002.76</td>\n",
       "    </tr>\n",
       "    <tr>\n",
       "      <th>...</th>\n",
       "      <td>...</td>\n",
       "      <td>...</td>\n",
       "    </tr>\n",
       "    <tr>\n",
       "      <th>92</th>\n",
       "      <td>839211</td>\n",
       "      <td>104427.84</td>\n",
       "    </tr>\n",
       "    <tr>\n",
       "      <th>93</th>\n",
       "      <td>856355</td>\n",
       "      <td>113894.47</td>\n",
       "    </tr>\n",
       "    <tr>\n",
       "      <th>94</th>\n",
       "      <td>874397</td>\n",
       "      <td>112633.42</td>\n",
       "    </tr>\n",
       "    <tr>\n",
       "      <th>95</th>\n",
       "      <td>893400</td>\n",
       "      <td>113085.06</td>\n",
       "    </tr>\n",
       "    <tr>\n",
       "      <th>96</th>\n",
       "      <td>913465</td>\n",
       "      <td>101573.25</td>\n",
       "    </tr>\n",
       "  </tbody>\n",
       "</table>\n",
       "<p>97 rows × 2 columns</p>\n",
       "</div>"
      ],
      "text/plain": [
       "    TotalSamples   Positive\n",
       "0         323692    8443.02\n",
       "1         331268    8828.37\n",
       "2         334709    8803.29\n",
       "3         340043    8935.35\n",
       "4         345250    9002.76\n",
       "..           ...        ...\n",
       "92        839211  104427.84\n",
       "93        856355  113894.47\n",
       "94        874397  112633.42\n",
       "95        893400  113085.06\n",
       "96        913465  101573.25\n",
       "\n",
       "[97 rows x 2 columns]"
      ]
     },
     "execution_count": 109,
     "metadata": {},
     "output_type": "execute_result"
    }
   ],
   "source": [
    "# Format predictions into same format \n",
    "df_preds=pd.DataFrame()\n",
    "df_preds[\"TotalSamples\"]=df_test[\"TotalSamples\"]\n",
    "df_preds[\"Positive\"]=test_preds\n",
    "df_preds\n"
   ]
  },
  {
   "cell_type": "code",
   "execution_count": 110,
   "id": "bacterial-forestry",
   "metadata": {},
   "outputs": [],
   "source": [
    "df_preds.to_csv(\"outcomes.csv\")"
   ]
  },
  {
   "cell_type": "markdown",
   "id": "marine-singapore",
   "metadata": {},
   "source": [
    "### Feature Importance\n",
    "\n",
    "Feature importance seeks to figure out which different attributes of data where most important in predicitng target variable(Positive)"
   ]
  },
  {
   "cell_type": "code",
   "execution_count": 111,
   "id": "handed-reliance",
   "metadata": {},
   "outputs": [
    {
     "data": {
      "text/plain": [
       "array([3.04973695e-01, 6.64313157e-01, 1.31435752e-04, 5.94867077e-03,\n",
       "       3.65240752e-03, 1.90619873e-04, 2.07900142e-02])"
      ]
     },
     "execution_count": 111,
     "metadata": {},
     "output_type": "execute_result"
    }
   ],
   "source": [
    "ideal_model.feature_importances_"
   ]
  },
  {
   "cell_type": "code",
   "execution_count": 112,
   "id": "floppy-sweden",
   "metadata": {},
   "outputs": [
    {
     "data": {
      "text/plain": [
       "(4355, 7)"
      ]
     },
     "execution_count": 112,
     "metadata": {},
     "output_type": "execute_result"
    }
   ],
   "source": [
    "X_train.shape"
   ]
  },
  {
   "cell_type": "code",
   "execution_count": 121,
   "id": "accomplished-latter",
   "metadata": {},
   "outputs": [],
   "source": [
    "# Helper function for plotting features importance\n",
    "def plot_features(columns,importances,n=20):\n",
    "    df=(pd.DataFrame({\"features\":columns,\n",
    "                      \"feature_importances\":importances\n",
    "    })).sort_values(\"feature_importances\",ascending=False).reset_index(drop=True)\n",
    "    \n",
    "    fig,ax=plt.subplots()\n",
    "    ax.barh(df[\"features\"[:n]],df[\"feature_importances\"][:20])\n",
    "    ax.set_ylabel(\"Features\")\n",
    "    ax.set_xlabel(\"Feature importances\")\n",
    "    ax.invert_yaxis()"
   ]
  },
  {
   "cell_type": "code",
   "execution_count": 122,
   "id": "chief-decrease",
   "metadata": {},
   "outputs": [
    {
     "data": {
      "image/png": "[encoded data removed]",
      "text/plain": [
       "<Figure size 432x288 with 1 Axes>"
      ]
     },
     "metadata": {
      "needs_background": "light"
     },
     "output_type": "display_data"
    }
   ],
   "source": [
    "plot_features(X_train.columns, ideal_model.feature_importances_) "
   ]
  },
  {
   "cell_type": "code",
   "execution_count": 123,
   "id": "nominated-audio",
   "metadata": {},
   "outputs": [],
   "source": [
    "import pickle\n",
    "# open a file, where you want to store data\n",
    "file = open ('random_forest_regression.pkl','wb')\n",
    "pickle.dump(ideal_model,file)"
   ]
  },
  {
   "cell_type": "code",
   "execution_count": null,
   "id": "indoor-congo",
   "metadata": {},
   "outputs": [],
   "source": []
  },
  {
   "cell_type": "code",
   "execution_count": null,
   "id": "electric-singing",
   "metadata": {},
   "outputs": [],
   "source": []
  },
  {
   "cell_type": "code",
   "execution_count": null,
   "id": "periodic-russian",
   "metadata": {},
   "outputs": [],
   "source": []
  }
 ],
 "metadata": {
  "kernelspec": {
   "display_name": "Python 3",
   "language": "python",
   "name": "python3"
  },
  "language_info": {
   "codemirror_mode": {
    "name": "ipython",
    "version": 3
   },
   "file_extension": ".py",
   "mimetype": "text/x-python",
   "name": "python",
   "nbconvert_exporter": "python",
   "pygments_lexer": "ipython3",
   "version": "3.8.8"
  }
 },
 "nbformat": 4,
 "nbformat_minor": 5
}
